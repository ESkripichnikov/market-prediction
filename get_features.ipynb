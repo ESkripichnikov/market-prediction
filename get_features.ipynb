{
 "cells": [
  {
   "cell_type": "code",
   "execution_count": 1,
   "id": "64775fad",
   "metadata": {},
   "outputs": [],
   "source": [
    "import datetime\n",
    "import numpy as np\n",
    "import pandas as pd\n",
    "\n",
    "import warnings\n",
    "warnings.filterwarnings('ignore')\n",
    "\n",
    "from tqdm.notebook import tqdm\n",
    "tqdm.pandas()"
   ]
  },
  {
   "cell_type": "code",
   "execution_count": 2,
   "id": "2ce28e16",
   "metadata": {},
   "outputs": [],
   "source": [
    "target_path = 'data/target.csv'\n",
    "ticker_path = 'data/ticker.csv' \n",
    "book_path = 'data/book.csv' \n",
    "trades_path = 'data/trades.csv' \n",
    "\n",
    "ticker_spot_path = 'data/ticker.spot.csv'\n",
    "book_spot_path = 'data/book.spot.csv'\n",
    "trades_spot_path = 'data/trades.spot.csv'"
   ]
  },
  {
   "cell_type": "code",
   "execution_count": 3,
   "id": "6e742c87",
   "metadata": {},
   "outputs": [],
   "source": [
    "df_target = pd.read_csv(target_path)\n",
    "df_ticker = pd.read_csv(ticker_path,\n",
    "                        usecols = [0, 4, 5, 6, 7])\n",
    "df_book = pd.read_csv(book_path, usecols=range(3, 104))"
   ]
  },
  {
   "cell_type": "code",
   "execution_count": 4,
   "id": "f5dc42c3",
   "metadata": {},
   "outputs": [],
   "source": [
    "df_ticker_spot = pd.read_csv(ticker_spot_path,\n",
    "                        usecols = [0, 2, 3, 4, 5]) \n",
    "df_book_spot = pd.read_csv(book_spot_path, usecols=range(3, 104))"
   ]
  },
  {
   "cell_type": "markdown",
   "id": "a01f2776",
   "metadata": {},
   "source": [
    "# Preprocessing"
   ]
  },
  {
   "cell_type": "code",
   "execution_count": 5,
   "id": "1d6494bf",
   "metadata": {},
   "outputs": [],
   "source": [
    "df_target['local_ts'] = pd.to_datetime(df_target['local_ts'])\n",
    "df_ticker['local_ts'] = pd.to_datetime(df_ticker['local_ts'])\n",
    "df_book['local_timestamp'] = pd.to_datetime(df_book['local_timestamp'])"
   ]
  },
  {
   "cell_type": "code",
   "execution_count": 6,
   "id": "88a0dbb5",
   "metadata": {},
   "outputs": [],
   "source": [
    "df_ticker_spot['local_ts'] = pd.to_datetime(df_ticker_spot['local_ts'])\n",
    "df_book_spot['local_timestamp'] = pd.to_datetime(df_book_spot['local_timestamp'])"
   ]
  },
  {
   "cell_type": "markdown",
   "id": "3935bd6c",
   "metadata": {},
   "source": [
    "Удалим дупликаты и установим в качестве индекса 'local_ts'"
   ]
  },
  {
   "cell_type": "code",
   "execution_count": 7,
   "id": "083db82d",
   "metadata": {
    "scrolled": true
   },
   "outputs": [],
   "source": [
    "df_target = (\n",
    "    df_target.drop_duplicates(subset='local_ts', keep='last')\n",
    "    .set_index('local_ts').sort_index()\n",
    ")\n",
    "\n",
    "df_ticker = (\n",
    "    df_ticker.drop_duplicates(subset='local_ts', keep='last')\n",
    "    .set_index('local_ts').sort_index()\n",
    ")\n",
    "\n",
    "df_book.rename(columns={'local_timestamp': 'local_ts'}, inplace=True)\n",
    "df_book = (\n",
    "    df_book.drop_duplicates(subset='local_ts', keep='last')\n",
    "    .set_index('local_ts').sort_index()\n",
    ")"
   ]
  },
  {
   "cell_type": "code",
   "execution_count": 8,
   "id": "a10136d4",
   "metadata": {},
   "outputs": [],
   "source": [
    "df_ticker_spot = (\n",
    "    df_ticker_spot.drop_duplicates(subset='local_ts', keep='last')\n",
    "    .set_index('local_ts').sort_index()\n",
    ")\n",
    "\n",
    "df_book_spot.rename(columns={'local_timestamp': 'local_ts'}, inplace=True)\n",
    "df_book_spot = (\n",
    "    df_book_spot.drop_duplicates(subset='local_ts', keep='last')\n",
    "    .set_index('local_ts').sort_index()\n",
    ")"
   ]
  },
  {
   "cell_type": "markdown",
   "id": "ba88e8d4",
   "metadata": {},
   "source": [
    "Преобразуем df_book и df_book_spot: вместо множества столбцов сделаем несколько со списками внутри"
   ]
  },
  {
   "cell_type": "code",
   "execution_count": 9,
   "id": "849b1feb",
   "metadata": {},
   "outputs": [
    {
     "data": {
      "application/vnd.jupyter.widget-view+json": {
       "model_id": "e915fb64a8ab4ee0b56dde6dfd915f85",
       "version_major": 2,
       "version_minor": 0
      },
      "text/plain": [
       "  0%|          | 0/2 [00:00<?, ?it/s]"
      ]
     },
     "metadata": {},
     "output_type": "display_data"
    },
    {
     "data": {
      "application/vnd.jupyter.widget-view+json": {
       "model_id": "adeb7b7125634601b30570656b6be5eb",
       "version_major": 2,
       "version_minor": 0
      },
      "text/plain": [
       "  0%|          | 0/4 [00:00<?, ?it/s]"
      ]
     },
     "metadata": {},
     "output_type": "display_data"
    },
    {
     "data": {
      "application/vnd.jupyter.widget-view+json": {
       "model_id": "060cdbabd7d447eaaac23c8dc344391a",
       "version_major": 2,
       "version_minor": 0
      },
      "text/plain": [
       "  0%|          | 0/4 [00:00<?, ?it/s]"
      ]
     },
     "metadata": {},
     "output_type": "display_data"
    }
   ],
   "source": [
    "for df_ in tqdm([df_book, df_book_spot]):\n",
    "    df_['best_bid'] = df_['bids[0].price']\n",
    "    df_['best_ask'] = df_['asks[0].price']\n",
    "    df_['worst_bid'] = df_['bids[24].price']\n",
    "    df_['worst_ask'] = df_['asks[24].price']\n",
    "\n",
    "    filters = [('bid_prices', [f'bids[{i}].price' for i in range(0, 25)]),\n",
    "               ('bid_amounts', [f'bids[{i}].amount' for i in range(0, 25)]),\n",
    "               ('ask_prices', [f'asks[{i}].price' for i in range(0, 25)]),\n",
    "               ('ask_amounts', [f'asks[{i}].amount' for i in range(0, 25)])]\n",
    "    tqdm_filters = tqdm(filters)\n",
    "    for key, filt in tqdm_filters:\n",
    "        tqdm_filters.set_description(f'{key} are processing')\n",
    "\n",
    "        df_[key] = df_[filt].values.tolist()\n",
    "        df_.drop(columns=filt, inplace=True)"
   ]
  },
  {
   "cell_type": "code",
   "execution_count": 10,
   "id": "20f4dc9d",
   "metadata": {},
   "outputs": [],
   "source": [
    "## более универсальный способ сделать то, что сделано в предыдущей ячейке, но возможно более медленный\n",
    "\n",
    "# filters = [('ask_prices', 'asks\\[\\d+\\]\\.price'), ('ask_amounts', 'asks\\[\\d+\\]\\.amount'),\n",
    "#            ('bid_prices', 'bids\\[\\d+\\]\\.price'), ('bid_amounts', 'bids\\[\\d+\\]\\.amount')]\n",
    "# for key, filt in filters:\n",
    "#     df[key] = df.filter(regex=filt).values.tolist()\n",
    "#     df.drop(columns=df.filter(regex=filt).columns, inplace=True)"
   ]
  },
  {
   "cell_type": "code",
   "execution_count": 11,
   "id": "f61a8aca",
   "metadata": {},
   "outputs": [
    {
     "data": {
      "text/html": [
       "<div>\n",
       "<style scoped>\n",
       "    .dataframe tbody tr th:only-of-type {\n",
       "        vertical-align: middle;\n",
       "    }\n",
       "\n",
       "    .dataframe tbody tr th {\n",
       "        vertical-align: top;\n",
       "    }\n",
       "\n",
       "    .dataframe thead th {\n",
       "        text-align: right;\n",
       "    }\n",
       "</style>\n",
       "<table border=\"1\" class=\"dataframe\">\n",
       "  <thead>\n",
       "    <tr style=\"text-align: right;\">\n",
       "      <th></th>\n",
       "      <th>best_bid</th>\n",
       "      <th>best_ask</th>\n",
       "      <th>worst_bid</th>\n",
       "      <th>worst_ask</th>\n",
       "      <th>bid_prices</th>\n",
       "      <th>bid_amounts</th>\n",
       "      <th>ask_prices</th>\n",
       "      <th>ask_amounts</th>\n",
       "    </tr>\n",
       "    <tr>\n",
       "      <th>local_ts</th>\n",
       "      <th></th>\n",
       "      <th></th>\n",
       "      <th></th>\n",
       "      <th></th>\n",
       "      <th></th>\n",
       "      <th></th>\n",
       "      <th></th>\n",
       "      <th></th>\n",
       "    </tr>\n",
       "  </thead>\n",
       "  <tbody>\n",
       "    <tr>\n",
       "      <th>2023-03-22 00:00:00.485131264</th>\n",
       "      <td>28091.1</td>\n",
       "      <td>28091.2</td>\n",
       "      <td>28087.6</td>\n",
       "      <td>28093.7</td>\n",
       "      <td>[28091.1, 28091.0, 28090.8, 28090.7, 28090.6, ...</td>\n",
       "      <td>[0.001, 0.003, 0.002, 0.002, 0.002, 0.02, 0.00...</td>\n",
       "      <td>[28091.2, 28091.3, 28091.4, 28091.5, 28091.6, ...</td>\n",
       "      <td>[16.183, 7.874, 1.451, 5.937, 0.298, 0.018, 0....</td>\n",
       "    </tr>\n",
       "    <tr>\n",
       "      <th>2023-03-22 00:00:02.065465600</th>\n",
       "      <td>28090.8</td>\n",
       "      <td>28090.9</td>\n",
       "      <td>28087.4</td>\n",
       "      <td>28093.5</td>\n",
       "      <td>[28090.8, 28090.7, 28090.6, 28090.5, 28090.4, ...</td>\n",
       "      <td>[0.002, 0.002, 0.002, 0.02, 0.001, 0.001, 0.00...</td>\n",
       "      <td>[28090.9, 28091.0, 28091.2, 28091.3, 28091.4, ...</td>\n",
       "      <td>[6.995, 0.735, 15.633, 7.874, 1.451, 5.937, 0....</td>\n",
       "    </tr>\n",
       "    <tr>\n",
       "      <th>2023-03-22 00:00:02.691394048</th>\n",
       "      <td>28090.8</td>\n",
       "      <td>28090.9</td>\n",
       "      <td>28087.4</td>\n",
       "      <td>28093.5</td>\n",
       "      <td>[28090.8, 28090.7, 28090.6, 28090.5, 28090.4, ...</td>\n",
       "      <td>[0.002, 0.002, 0.002, 0.02, 0.001, 0.001, 0.00...</td>\n",
       "      <td>[28090.9, 28091.0, 28091.2, 28091.3, 28091.4, ...</td>\n",
       "      <td>[7.005, 0.735, 15.633, 7.874, 1.451, 5.937, 0....</td>\n",
       "    </tr>\n",
       "  </tbody>\n",
       "</table>\n",
       "</div>"
      ],
      "text/plain": [
       "                               best_bid  best_ask  worst_bid  worst_ask  \\\n",
       "local_ts                                                                  \n",
       "2023-03-22 00:00:00.485131264   28091.1   28091.2    28087.6    28093.7   \n",
       "2023-03-22 00:00:02.065465600   28090.8   28090.9    28087.4    28093.5   \n",
       "2023-03-22 00:00:02.691394048   28090.8   28090.9    28087.4    28093.5   \n",
       "\n",
       "                                                                      bid_prices  \\\n",
       "local_ts                                                                           \n",
       "2023-03-22 00:00:00.485131264  [28091.1, 28091.0, 28090.8, 28090.7, 28090.6, ...   \n",
       "2023-03-22 00:00:02.065465600  [28090.8, 28090.7, 28090.6, 28090.5, 28090.4, ...   \n",
       "2023-03-22 00:00:02.691394048  [28090.8, 28090.7, 28090.6, 28090.5, 28090.4, ...   \n",
       "\n",
       "                                                                     bid_amounts  \\\n",
       "local_ts                                                                           \n",
       "2023-03-22 00:00:00.485131264  [0.001, 0.003, 0.002, 0.002, 0.002, 0.02, 0.00...   \n",
       "2023-03-22 00:00:02.065465600  [0.002, 0.002, 0.002, 0.02, 0.001, 0.001, 0.00...   \n",
       "2023-03-22 00:00:02.691394048  [0.002, 0.002, 0.002, 0.02, 0.001, 0.001, 0.00...   \n",
       "\n",
       "                                                                      ask_prices  \\\n",
       "local_ts                                                                           \n",
       "2023-03-22 00:00:00.485131264  [28091.2, 28091.3, 28091.4, 28091.5, 28091.6, ...   \n",
       "2023-03-22 00:00:02.065465600  [28090.9, 28091.0, 28091.2, 28091.3, 28091.4, ...   \n",
       "2023-03-22 00:00:02.691394048  [28090.9, 28091.0, 28091.2, 28091.3, 28091.4, ...   \n",
       "\n",
       "                                                                     ask_amounts  \n",
       "local_ts                                                                          \n",
       "2023-03-22 00:00:00.485131264  [16.183, 7.874, 1.451, 5.937, 0.298, 0.018, 0....  \n",
       "2023-03-22 00:00:02.065465600  [6.995, 0.735, 15.633, 7.874, 1.451, 5.937, 0....  \n",
       "2023-03-22 00:00:02.691394048  [7.005, 0.735, 15.633, 7.874, 1.451, 5.937, 0....  "
      ]
     },
     "execution_count": 11,
     "metadata": {},
     "output_type": "execute_result"
    }
   ],
   "source": [
    "df_book.head(3)"
   ]
  },
  {
   "cell_type": "markdown",
   "id": "9b4a6e08",
   "metadata": {},
   "source": [
    "Соединим df_target, df_ticker и df_ticker_spot в один датафрейм, в который в дальнейшем будем добавлять сгенерированные фичи"
   ]
  },
  {
   "cell_type": "code",
   "execution_count": 12,
   "id": "1f085c27",
   "metadata": {},
   "outputs": [],
   "source": [
    "perp_columns = df_ticker.columns\n",
    "perp_columns = [f'{column}_perp' for column in perp_columns]\n",
    "df_ticker.columns = perp_columns\n",
    "\n",
    "spot_columns = df_ticker_spot.columns\n",
    "spot_columns = [f'{column}_spot' for column in spot_columns]\n",
    "df_ticker_spot.columns = spot_columns"
   ]
  },
  {
   "cell_type": "code",
   "execution_count": 13,
   "id": "3f905355",
   "metadata": {},
   "outputs": [],
   "source": [
    "df = pd.merge_asof(df_target, df_ticker, on='local_ts', direction='backward')\n",
    "df = pd.merge_asof(df, df_ticker_spot, on='local_ts', direction='backward')"
   ]
  },
  {
   "cell_type": "code",
   "execution_count": 14,
   "id": "ca154d95",
   "metadata": {},
   "outputs": [],
   "source": [
    "del df_target, df_ticker, df_ticker_spot"
   ]
  },
  {
   "cell_type": "code",
   "execution_count": 15,
   "id": "1c6d35ae",
   "metadata": {
    "scrolled": true
   },
   "outputs": [],
   "source": [
    "df.set_index('local_ts', inplace=True)\n",
    "df.sort_index(inplace=True)"
   ]
  },
  {
   "cell_type": "code",
   "execution_count": 16,
   "id": "54f4c764",
   "metadata": {},
   "outputs": [
    {
     "data": {
      "text/html": [
       "<div>\n",
       "<style scoped>\n",
       "    .dataframe tbody tr th:only-of-type {\n",
       "        vertical-align: middle;\n",
       "    }\n",
       "\n",
       "    .dataframe tbody tr th {\n",
       "        vertical-align: top;\n",
       "    }\n",
       "\n",
       "    .dataframe thead th {\n",
       "        text-align: right;\n",
       "    }\n",
       "</style>\n",
       "<table border=\"1\" class=\"dataframe\">\n",
       "  <thead>\n",
       "    <tr style=\"text-align: right;\">\n",
       "      <th></th>\n",
       "      <th>target</th>\n",
       "      <th>bid_price_perp</th>\n",
       "      <th>bid_amount_perp</th>\n",
       "      <th>ask_price_perp</th>\n",
       "      <th>ask_amount_perp</th>\n",
       "      <th>bid_price_spot</th>\n",
       "      <th>bid_amount_spot</th>\n",
       "      <th>ask_price_spot</th>\n",
       "      <th>ask_amount_spot</th>\n",
       "    </tr>\n",
       "    <tr>\n",
       "      <th>local_ts</th>\n",
       "      <th></th>\n",
       "      <th></th>\n",
       "      <th></th>\n",
       "      <th></th>\n",
       "      <th></th>\n",
       "      <th></th>\n",
       "      <th></th>\n",
       "      <th></th>\n",
       "      <th></th>\n",
       "    </tr>\n",
       "  </thead>\n",
       "  <tbody>\n",
       "    <tr>\n",
       "      <th>2023-03-22 00:00:00.002269696</th>\n",
       "      <td>0</td>\n",
       "      <td>28091.1</td>\n",
       "      <td>0.885</td>\n",
       "      <td>28091.2</td>\n",
       "      <td>17.243</td>\n",
       "      <td>NaN</td>\n",
       "      <td>NaN</td>\n",
       "      <td>NaN</td>\n",
       "      <td>NaN</td>\n",
       "    </tr>\n",
       "    <tr>\n",
       "      <th>2023-03-22 00:00:00.023076352</th>\n",
       "      <td>0</td>\n",
       "      <td>28091.1</td>\n",
       "      <td>0.685</td>\n",
       "      <td>28091.2</td>\n",
       "      <td>17.243</td>\n",
       "      <td>28105.80</td>\n",
       "      <td>0.00191</td>\n",
       "      <td>28106.89</td>\n",
       "      <td>0.00638</td>\n",
       "    </tr>\n",
       "    <tr>\n",
       "      <th>2023-03-22 00:00:00.025819392</th>\n",
       "      <td>0</td>\n",
       "      <td>28091.1</td>\n",
       "      <td>0.685</td>\n",
       "      <td>28091.2</td>\n",
       "      <td>17.223</td>\n",
       "      <td>28105.08</td>\n",
       "      <td>0.03912</td>\n",
       "      <td>28105.42</td>\n",
       "      <td>0.00400</td>\n",
       "    </tr>\n",
       "  </tbody>\n",
       "</table>\n",
       "</div>"
      ],
      "text/plain": [
       "                               target  bid_price_perp  bid_amount_perp  \\\n",
       "local_ts                                                                 \n",
       "2023-03-22 00:00:00.002269696       0         28091.1            0.885   \n",
       "2023-03-22 00:00:00.023076352       0         28091.1            0.685   \n",
       "2023-03-22 00:00:00.025819392       0         28091.1            0.685   \n",
       "\n",
       "                               ask_price_perp  ask_amount_perp  \\\n",
       "local_ts                                                         \n",
       "2023-03-22 00:00:00.002269696         28091.2           17.243   \n",
       "2023-03-22 00:00:00.023076352         28091.2           17.243   \n",
       "2023-03-22 00:00:00.025819392         28091.2           17.223   \n",
       "\n",
       "                               bid_price_spot  bid_amount_spot  \\\n",
       "local_ts                                                         \n",
       "2023-03-22 00:00:00.002269696             NaN              NaN   \n",
       "2023-03-22 00:00:00.023076352        28105.80          0.00191   \n",
       "2023-03-22 00:00:00.025819392        28105.08          0.03912   \n",
       "\n",
       "                               ask_price_spot  ask_amount_spot  \n",
       "local_ts                                                        \n",
       "2023-03-22 00:00:00.002269696             NaN              NaN  \n",
       "2023-03-22 00:00:00.023076352        28106.89          0.00638  \n",
       "2023-03-22 00:00:00.025819392        28105.42          0.00400  "
      ]
     },
     "execution_count": 16,
     "metadata": {},
     "output_type": "execute_result"
    }
   ],
   "source": [
    "df.head(3)"
   ]
  },
  {
   "cell_type": "markdown",
   "id": "beace836",
   "metadata": {},
   "source": [
    "Как можно видеть, у нас могут появляться NaN значения в самом начале. Пока их не удаляю и никак не заполняю"
   ]
  },
  {
   "cell_type": "code",
   "execution_count": 17,
   "id": "04d63610",
   "metadata": {},
   "outputs": [],
   "source": [
    "# df.dropna(axis=0, inplace=True)\n",
    "# df.interpolate(method='backfill', inplace=True)"
   ]
  },
  {
   "cell_type": "markdown",
   "id": "ef218416",
   "metadata": {},
   "source": [
    "# Features"
   ]
  },
  {
   "cell_type": "markdown",
   "id": "eed37671",
   "metadata": {},
   "source": [
    "## Orderbook Imbalances"
   ]
  },
  {
   "cell_type": "markdown",
   "id": "661289a4",
   "metadata": {},
   "source": [
    "В статье для расчёта данной фичи используется \"the median liquidity within the top **five basis points** of the top of the book\". Для начала посмотрим, насколько у нас глубокий стакан в bp."
   ]
  },
  {
   "cell_type": "code",
   "execution_count": 18,
   "id": "3ad4b682",
   "metadata": {},
   "outputs": [],
   "source": [
    "for df_ in [df_book, df_book_spot]:\n",
    "    df_['bid_diff'] = (df_['best_bid'] / df_['worst_bid'] - 1) * 10000\n",
    "    df_['ask_diff'] = (df_['worst_ask'] / df_['best_ask'] - 1) * 10000"
   ]
  },
  {
   "cell_type": "code",
   "execution_count": 19,
   "id": "69fd2788",
   "metadata": {},
   "outputs": [
    {
     "data": {
      "text/plain": [
       "(count    6.403490e+06\n",
       " mean     1.204156e+00\n",
       " std      3.698358e-01\n",
       " min      8.361728e-01\n",
       " 25%      9.941840e-01\n",
       " 50%      1.099453e+00\n",
       " 75%      1.282563e+00\n",
       " max      4.290430e+01\n",
       " Name: bid_diff, dtype: float64,\n",
       " count    6.403490e+06\n",
       " mean     1.211033e+00\n",
       " std      3.749822e-01\n",
       " min      8.311400e-01\n",
       " 25%      9.929078e-01\n",
       " 50%      1.099611e+00\n",
       " 75%      1.306922e+00\n",
       " max      4.422557e+01\n",
       " Name: ask_diff, dtype: float64)"
      ]
     },
     "execution_count": 19,
     "metadata": {},
     "output_type": "execute_result"
    }
   ],
   "source": [
    "df_book['bid_diff'].describe(), df_book['ask_diff'].describe()"
   ]
  },
  {
   "cell_type": "code",
   "execution_count": 20,
   "id": "ef38f8a1",
   "metadata": {},
   "outputs": [
    {
     "data": {
      "text/plain": [
       "(count    2.305858e+06\n",
       " mean     1.043676e+00\n",
       " std      6.328813e-01\n",
       " min      1.425134e-01\n",
       " 25%      6.592752e-01\n",
       " 50%      8.686287e-01\n",
       " 75%      1.220260e+00\n",
       " max      2.707499e+01\n",
       " Name: bid_diff, dtype: float64,\n",
       " count    2.305858e+06\n",
       " mean     1.046253e+00\n",
       " std      6.609816e-01\n",
       " min      1.338028e-01\n",
       " 25%      6.533608e-01\n",
       " 50%      8.681165e-01\n",
       " 75%      1.230606e+00\n",
       " max      4.174346e+01\n",
       " Name: ask_diff, dtype: float64)"
      ]
     },
     "execution_count": 20,
     "metadata": {},
     "output_type": "execute_result"
    }
   ],
   "source": [
    "df_book_spot['bid_diff'].describe(), df_book_spot['ask_diff'].describe()"
   ]
  },
  {
   "cell_type": "markdown",
   "id": "46c6b46a",
   "metadata": {},
   "source": [
    "Как мы видим, в среднем глубина у нас 1.2 bp как для бид стороны, так и для аска (для спота примерно 1 bp). Поэтому если брать 5bp, то мы, по сути, будем брать медиану по всему стакану (для бида и аска в отдельности). И тут непонятно, насколько нас такая ситуация устраивает. Если в какой-то момент стакан асимметричен (2 bp по аску и 0.5 bp по биду), то рассчитывать так медианы, кажется, некорректно. \n",
    "\n",
    "Какое именно кол-во bp брать - отдельный вопрос, на который сходу ответить тяжело. С одной стороны, чем больше bp брать, тем менее информативным становится признак (много ситуаций с нулевыми значениями как по биду, так и по аску). С другой стороны, если мы берем низкие значения bp, то мы как бы смотрим, насколько вероятно пробитие стакана на меньшее кол-во bp, а у нас целевая переменная, насколько я помню, завязана на 1 bp, в связи с чем небольшие пробития стакана меньше, чем на 1bp нас не интересуют.\n",
    "\n",
    "По итогу, я решил изменить предложенные в статье 5 bp на 1bp."
   ]
  },
  {
   "cell_type": "code",
   "execution_count": 21,
   "id": "9362bfce",
   "metadata": {},
   "outputs": [],
   "source": [
    "for df_ in [df_book, df_book_spot]:\n",
    "    df_['bid_bp'] = df_['best_bid'] * (1 - 0.0001)\n",
    "    df_['ask_bp'] = df_['best_ask'] * (1 + 0.0001)\n",
    "    \n",
    "    df_.drop(columns=['best_bid', 'best_ask', 'worst_bid', 'worst_ask', 'bid_diff', 'ask_diff'], inplace=True)"
   ]
  },
  {
   "cell_type": "code",
   "execution_count": 22,
   "id": "7ab3543a",
   "metadata": {
    "scrolled": true
   },
   "outputs": [
    {
     "data": {
      "text/html": [
       "<div>\n",
       "<style scoped>\n",
       "    .dataframe tbody tr th:only-of-type {\n",
       "        vertical-align: middle;\n",
       "    }\n",
       "\n",
       "    .dataframe tbody tr th {\n",
       "        vertical-align: top;\n",
       "    }\n",
       "\n",
       "    .dataframe thead th {\n",
       "        text-align: right;\n",
       "    }\n",
       "</style>\n",
       "<table border=\"1\" class=\"dataframe\">\n",
       "  <thead>\n",
       "    <tr style=\"text-align: right;\">\n",
       "      <th></th>\n",
       "      <th>bid_prices</th>\n",
       "      <th>bid_amounts</th>\n",
       "      <th>ask_prices</th>\n",
       "      <th>ask_amounts</th>\n",
       "      <th>bid_bp</th>\n",
       "      <th>ask_bp</th>\n",
       "    </tr>\n",
       "    <tr>\n",
       "      <th>local_ts</th>\n",
       "      <th></th>\n",
       "      <th></th>\n",
       "      <th></th>\n",
       "      <th></th>\n",
       "      <th></th>\n",
       "      <th></th>\n",
       "    </tr>\n",
       "  </thead>\n",
       "  <tbody>\n",
       "    <tr>\n",
       "      <th>2023-03-22 00:00:00.485131264</th>\n",
       "      <td>[28091.1, 28091.0, 28090.8, 28090.7, 28090.6, ...</td>\n",
       "      <td>[0.001, 0.003, 0.002, 0.002, 0.002, 0.02, 0.00...</td>\n",
       "      <td>[28091.2, 28091.3, 28091.4, 28091.5, 28091.6, ...</td>\n",
       "      <td>[16.183, 7.874, 1.451, 5.937, 0.298, 0.018, 0....</td>\n",
       "      <td>28088.29089</td>\n",
       "      <td>28094.00912</td>\n",
       "    </tr>\n",
       "    <tr>\n",
       "      <th>2023-03-22 00:00:02.065465600</th>\n",
       "      <td>[28090.8, 28090.7, 28090.6, 28090.5, 28090.4, ...</td>\n",
       "      <td>[0.002, 0.002, 0.002, 0.02, 0.001, 0.001, 0.00...</td>\n",
       "      <td>[28090.9, 28091.0, 28091.2, 28091.3, 28091.4, ...</td>\n",
       "      <td>[6.995, 0.735, 15.633, 7.874, 1.451, 5.937, 0....</td>\n",
       "      <td>28087.99092</td>\n",
       "      <td>28093.70909</td>\n",
       "    </tr>\n",
       "    <tr>\n",
       "      <th>2023-03-22 00:00:02.691394048</th>\n",
       "      <td>[28090.8, 28090.7, 28090.6, 28090.5, 28090.4, ...</td>\n",
       "      <td>[0.002, 0.002, 0.002, 0.02, 0.001, 0.001, 0.00...</td>\n",
       "      <td>[28090.9, 28091.0, 28091.2, 28091.3, 28091.4, ...</td>\n",
       "      <td>[7.005, 0.735, 15.633, 7.874, 1.451, 5.937, 0....</td>\n",
       "      <td>28087.99092</td>\n",
       "      <td>28093.70909</td>\n",
       "    </tr>\n",
       "  </tbody>\n",
       "</table>\n",
       "</div>"
      ],
      "text/plain": [
       "                                                                      bid_prices  \\\n",
       "local_ts                                                                           \n",
       "2023-03-22 00:00:00.485131264  [28091.1, 28091.0, 28090.8, 28090.7, 28090.6, ...   \n",
       "2023-03-22 00:00:02.065465600  [28090.8, 28090.7, 28090.6, 28090.5, 28090.4, ...   \n",
       "2023-03-22 00:00:02.691394048  [28090.8, 28090.7, 28090.6, 28090.5, 28090.4, ...   \n",
       "\n",
       "                                                                     bid_amounts  \\\n",
       "local_ts                                                                           \n",
       "2023-03-22 00:00:00.485131264  [0.001, 0.003, 0.002, 0.002, 0.002, 0.02, 0.00...   \n",
       "2023-03-22 00:00:02.065465600  [0.002, 0.002, 0.002, 0.02, 0.001, 0.001, 0.00...   \n",
       "2023-03-22 00:00:02.691394048  [0.002, 0.002, 0.002, 0.02, 0.001, 0.001, 0.00...   \n",
       "\n",
       "                                                                      ask_prices  \\\n",
       "local_ts                                                                           \n",
       "2023-03-22 00:00:00.485131264  [28091.2, 28091.3, 28091.4, 28091.5, 28091.6, ...   \n",
       "2023-03-22 00:00:02.065465600  [28090.9, 28091.0, 28091.2, 28091.3, 28091.4, ...   \n",
       "2023-03-22 00:00:02.691394048  [28090.9, 28091.0, 28091.2, 28091.3, 28091.4, ...   \n",
       "\n",
       "                                                                     ask_amounts  \\\n",
       "local_ts                                                                           \n",
       "2023-03-22 00:00:00.485131264  [16.183, 7.874, 1.451, 5.937, 0.298, 0.018, 0....   \n",
       "2023-03-22 00:00:02.065465600  [6.995, 0.735, 15.633, 7.874, 1.451, 5.937, 0....   \n",
       "2023-03-22 00:00:02.691394048  [7.005, 0.735, 15.633, 7.874, 1.451, 5.937, 0....   \n",
       "\n",
       "                                    bid_bp       ask_bp  \n",
       "local_ts                                                 \n",
       "2023-03-22 00:00:00.485131264  28088.29089  28094.00912  \n",
       "2023-03-22 00:00:02.065465600  28087.99092  28093.70909  \n",
       "2023-03-22 00:00:02.691394048  28087.99092  28093.70909  "
      ]
     },
     "execution_count": 22,
     "metadata": {},
     "output_type": "execute_result"
    }
   ],
   "source": [
    "df_book.head(3)"
   ]
  },
  {
   "cell_type": "markdown",
   "id": "429f5f01",
   "metadata": {},
   "source": [
    "К сожалению, расчёт данной фичи в векторном виде мне придумать не удалось, поэтому воспользуемся решением через apply"
   ]
  },
  {
   "cell_type": "code",
   "execution_count": 23,
   "id": "c4362592",
   "metadata": {},
   "outputs": [],
   "source": [
    "def get_imb(x):\n",
    "    bid_prices = np.array(x['bid_prices'])\n",
    "    bid_amounts = np.array(x['bid_amounts'])\n",
    "    bid_bp = x['bid_bp']\n",
    "    ask_prices = np.array(x['ask_prices'])\n",
    "    ask_amounts = np.array(x['ask_amounts'])\n",
    "    ask_bp = x['ask_bp']\n",
    "    \n",
    "    n_bid = np.nanmedian(np.where(bid_prices >= bid_bp, bid_amounts, np.nan))\n",
    "    n_ask = np.nanmedian(np.where(ask_prices <= ask_bp, ask_amounts, np.nan))\n",
    "    n = (n_bid + n_ask) / 2\n",
    "    \n",
    "    bid_cumsum = np.cumsum(bid_amounts)\n",
    "    bid_idxs = np.where(bid_cumsum >= n)[0]\n",
    "    p_bid = bid_prices[bid_idxs[0]] if bid_idxs.size else bid_prices[-1]\n",
    "    \n",
    "    ask_cumsum = np.cumsum(ask_amounts)\n",
    "    ask_idxs = np.where(ask_cumsum >= n)[0]\n",
    "    p_ask = ask_prices[ask_idxs[0]] if ask_idxs.size else ask_prices[-1]\n",
    "    \n",
    "    x['imb_bid'] = (bid_prices[0] / p_bid - 1) * 10000\n",
    "    x['imb_ask'] = (p_ask / ask_prices[0] - 1) * 10000\n",
    "    \n",
    "    return x"
   ]
  },
  {
   "cell_type": "code",
   "execution_count": 24,
   "id": "e950df53",
   "metadata": {},
   "outputs": [
    {
     "data": {
      "application/vnd.jupyter.widget-view+json": {
       "model_id": "9e79aa8549af4db2b1007034886f75dc",
       "version_major": 2,
       "version_minor": 0
      },
      "text/plain": [
       "  0%|          | 0/2 [00:00<?, ?it/s]"
      ]
     },
     "metadata": {},
     "output_type": "display_data"
    },
    {
     "data": {
      "application/vnd.jupyter.widget-view+json": {
       "model_id": "087221af08fa4d8eabbd34bb5c4ddfd1",
       "version_major": 2,
       "version_minor": 0
      },
      "text/plain": [
       "  0%|          | 0/6403490 [00:00<?, ?it/s]"
      ]
     },
     "metadata": {},
     "output_type": "display_data"
    },
    {
     "data": {
      "application/vnd.jupyter.widget-view+json": {
       "model_id": "c14fee0e3a40439a932ceeafbc819ba0",
       "version_major": 2,
       "version_minor": 0
      },
      "text/plain": [
       "  0%|          | 0/2305858 [00:00<?, ?it/s]"
      ]
     },
     "metadata": {},
     "output_type": "display_data"
    }
   ],
   "source": [
    "for df_, postfix in tqdm([(df_book, 'perp'), (df_book_spot, 'spot')]):\n",
    "    df_ = df_.progress_apply(get_imb, axis=1)\n",
    "    \n",
    "    df_.drop(columns=['bid_prices', 'bid_amounts', 'ask_prices', 'ask_amounts', 'bid_bp', 'ask_bp'], inplace=True)\n",
    "    columns_ = df_.columns\n",
    "    columns_= [f'{column}_{postfix}' for column in columns_]\n",
    "    df_.columns = columns_\n",
    "    \n",
    "    df = pd.merge_asof(df, df_, on='local_ts', direction='backward')\n",
    "    \n",
    "    df.set_index('local_ts', inplace=True)\n",
    "    df.sort_index(inplace=True)\n",
    "del df_book, df_book_spot"
   ]
  },
  {
   "cell_type": "markdown",
   "id": "5eccf771",
   "metadata": {},
   "source": [
    "Так как первый снепшот ордербука у нас за \"00:00:00.485131264\", то IMB_perp фичи  до этого времени имеют NaN (для спота такая же ситуация). Опять же пока оставим пропуски, никак их не заполняя."
   ]
  },
  {
   "cell_type": "code",
   "execution_count": 25,
   "id": "9616306c",
   "metadata": {},
   "outputs": [],
   "source": [
    "# df.dropna(axis=0, inplace=True)\n",
    "# df.interpolate(method='backfill', inplace=True)"
   ]
  },
  {
   "cell_type": "code",
   "execution_count": 26,
   "id": "db61a983",
   "metadata": {},
   "outputs": [
    {
     "data": {
      "text/html": [
       "<div>\n",
       "<style scoped>\n",
       "    .dataframe tbody tr th:only-of-type {\n",
       "        vertical-align: middle;\n",
       "    }\n",
       "\n",
       "    .dataframe tbody tr th {\n",
       "        vertical-align: top;\n",
       "    }\n",
       "\n",
       "    .dataframe thead th {\n",
       "        text-align: right;\n",
       "    }\n",
       "</style>\n",
       "<table border=\"1\" class=\"dataframe\">\n",
       "  <thead>\n",
       "    <tr style=\"text-align: right;\">\n",
       "      <th></th>\n",
       "      <th>target</th>\n",
       "      <th>bid_price_perp</th>\n",
       "      <th>bid_amount_perp</th>\n",
       "      <th>ask_price_perp</th>\n",
       "      <th>ask_amount_perp</th>\n",
       "      <th>bid_price_spot</th>\n",
       "      <th>bid_amount_spot</th>\n",
       "      <th>ask_price_spot</th>\n",
       "      <th>ask_amount_spot</th>\n",
       "      <th>imb_bid_perp</th>\n",
       "      <th>imb_ask_perp</th>\n",
       "      <th>imb_bid_spot</th>\n",
       "      <th>imb_ask_spot</th>\n",
       "    </tr>\n",
       "    <tr>\n",
       "      <th>local_ts</th>\n",
       "      <th></th>\n",
       "      <th></th>\n",
       "      <th></th>\n",
       "      <th></th>\n",
       "      <th></th>\n",
       "      <th></th>\n",
       "      <th></th>\n",
       "      <th></th>\n",
       "      <th></th>\n",
       "      <th></th>\n",
       "      <th></th>\n",
       "      <th></th>\n",
       "      <th></th>\n",
       "    </tr>\n",
       "  </thead>\n",
       "  <tbody>\n",
       "    <tr>\n",
       "      <th>2023-03-22 00:00:00.002269696</th>\n",
       "      <td>0</td>\n",
       "      <td>28091.1</td>\n",
       "      <td>0.885</td>\n",
       "      <td>28091.2</td>\n",
       "      <td>17.243</td>\n",
       "      <td>NaN</td>\n",
       "      <td>NaN</td>\n",
       "      <td>NaN</td>\n",
       "      <td>NaN</td>\n",
       "      <td>NaN</td>\n",
       "      <td>NaN</td>\n",
       "      <td>NaN</td>\n",
       "      <td>NaN</td>\n",
       "    </tr>\n",
       "    <tr>\n",
       "      <th>2023-03-22 00:00:00.023076352</th>\n",
       "      <td>0</td>\n",
       "      <td>28091.1</td>\n",
       "      <td>0.685</td>\n",
       "      <td>28091.2</td>\n",
       "      <td>17.243</td>\n",
       "      <td>28105.80</td>\n",
       "      <td>0.00191</td>\n",
       "      <td>28106.89</td>\n",
       "      <td>0.00638</td>\n",
       "      <td>NaN</td>\n",
       "      <td>NaN</td>\n",
       "      <td>NaN</td>\n",
       "      <td>NaN</td>\n",
       "    </tr>\n",
       "    <tr>\n",
       "      <th>2023-03-22 00:00:00.025819392</th>\n",
       "      <td>0</td>\n",
       "      <td>28091.1</td>\n",
       "      <td>0.685</td>\n",
       "      <td>28091.2</td>\n",
       "      <td>17.223</td>\n",
       "      <td>28105.08</td>\n",
       "      <td>0.03912</td>\n",
       "      <td>28105.42</td>\n",
       "      <td>0.00400</td>\n",
       "      <td>NaN</td>\n",
       "      <td>NaN</td>\n",
       "      <td>NaN</td>\n",
       "      <td>NaN</td>\n",
       "    </tr>\n",
       "  </tbody>\n",
       "</table>\n",
       "</div>"
      ],
      "text/plain": [
       "                               target  bid_price_perp  bid_amount_perp  \\\n",
       "local_ts                                                                 \n",
       "2023-03-22 00:00:00.002269696       0         28091.1            0.885   \n",
       "2023-03-22 00:00:00.023076352       0         28091.1            0.685   \n",
       "2023-03-22 00:00:00.025819392       0         28091.1            0.685   \n",
       "\n",
       "                               ask_price_perp  ask_amount_perp  \\\n",
       "local_ts                                                         \n",
       "2023-03-22 00:00:00.002269696         28091.2           17.243   \n",
       "2023-03-22 00:00:00.023076352         28091.2           17.243   \n",
       "2023-03-22 00:00:00.025819392         28091.2           17.223   \n",
       "\n",
       "                               bid_price_spot  bid_amount_spot  \\\n",
       "local_ts                                                         \n",
       "2023-03-22 00:00:00.002269696             NaN              NaN   \n",
       "2023-03-22 00:00:00.023076352        28105.80          0.00191   \n",
       "2023-03-22 00:00:00.025819392        28105.08          0.03912   \n",
       "\n",
       "                               ask_price_spot  ask_amount_spot  imb_bid_perp  \\\n",
       "local_ts                                                                       \n",
       "2023-03-22 00:00:00.002269696             NaN              NaN           NaN   \n",
       "2023-03-22 00:00:00.023076352        28106.89          0.00638           NaN   \n",
       "2023-03-22 00:00:00.025819392        28105.42          0.00400           NaN   \n",
       "\n",
       "                               imb_ask_perp  imb_bid_spot  imb_ask_spot  \n",
       "local_ts                                                                 \n",
       "2023-03-22 00:00:00.002269696           NaN           NaN           NaN  \n",
       "2023-03-22 00:00:00.023076352           NaN           NaN           NaN  \n",
       "2023-03-22 00:00:00.025819392           NaN           NaN           NaN  "
      ]
     },
     "execution_count": 26,
     "metadata": {},
     "output_type": "execute_result"
    }
   ],
   "source": [
    "df.head(3)"
   ]
  },
  {
   "cell_type": "markdown",
   "id": "2f1c61f1",
   "metadata": {},
   "source": [
    "## Trade Imbalances"
   ]
  },
  {
   "cell_type": "code",
   "execution_count": 27,
   "id": "3a16240c",
   "metadata": {},
   "outputs": [],
   "source": [
    "# df = pd.read_csv('data/df.csv')\n",
    "# df['local_ts'] = pd.to_datetime(df['local_ts'])\n",
    "df_trades = pd.read_csv(trades_path, usecols = [0, 4, 5, 6])\n",
    "df_trades_spot = pd.read_csv(trades_spot_path, usecols = [0, 4, 5, 6])"
   ]
  },
  {
   "cell_type": "code",
   "execution_count": 28,
   "id": "c476a26a",
   "metadata": {},
   "outputs": [],
   "source": [
    "df_trades['local_ts'] = pd.to_datetime(df_trades['local_ts'])\n",
    "df_trades = (\n",
    "    df_trades.drop_duplicates(subset='local_ts', keep='last')\n",
    "    .set_index('local_ts').sort_index()\n",
    ")\n",
    "\n",
    "df_trades_spot['local_ts'] = pd.to_datetime(df_trades_spot['local_ts'])\n",
    "df_trades_spot = (\n",
    "    df_trades_spot.drop_duplicates(subset='local_ts', keep='last')\n",
    "    .set_index('local_ts').sort_index()\n",
    ")"
   ]
  },
  {
   "cell_type": "markdown",
   "id": "1999f126",
   "metadata": {},
   "source": [
    "Опять же Nan'ы оставляю"
   ]
  },
  {
   "cell_type": "code",
   "execution_count": 29,
   "id": "d01e8864",
   "metadata": {},
   "outputs": [
    {
     "data": {
      "application/vnd.jupyter.widget-view+json": {
       "model_id": "4886339771894cc687560d2614273fd6",
       "version_major": 2,
       "version_minor": 0
      },
      "text/plain": [
       "  0%|          | 0/2 [00:00<?, ?it/s]"
      ]
     },
     "metadata": {},
     "output_type": "display_data"
    },
    {
     "data": {
      "application/vnd.jupyter.widget-view+json": {
       "model_id": "b3a8d85d1872459db145d6c8d8f7cbc2",
       "version_major": 2,
       "version_minor": 0
      },
      "text/plain": [
       "  0%|          | 0/5 [00:00<?, ?it/s]"
      ]
     },
     "metadata": {},
     "output_type": "display_data"
    },
    {
     "data": {
      "application/vnd.jupyter.widget-view+json": {
       "model_id": "2dcefaab87c74aaa959fc7a29bd458fc",
       "version_major": 2,
       "version_minor": 0
      },
      "text/plain": [
       "  0%|          | 0/5 [00:00<?, ?it/s]"
      ]
     },
     "metadata": {},
     "output_type": "display_data"
    }
   ],
   "source": [
    "for df_, postfix in tqdm([(df_trades, 'perp'), (df_trades_spot, 'spot')]):\n",
    "    df_['side'].replace(['S', 'B'], [-1, 1], inplace=True)\n",
    "    df_['amount'] = df_['amount'] *  df_['side']\n",
    "    df_.drop(columns=['price', 'side'], inplace=True)\n",
    "\n",
    "    tqdm_horizons = tqdm([100, 250, 500, 1000, 2000])\n",
    "    for time_horizon in tqdm_horizons:\n",
    "        tqdm_horizons.set_description(f'{time_horizon}ms is processing')\n",
    "\n",
    "        df_[f'tfi_{time_horizon}_{postfix}'] = df_['amount'].rolling(\n",
    "            f'{time_horizon}ms', min_periods=1\n",
    "        ).sum()\n",
    "\n",
    "    df_.drop(columns=['amount'], inplace=True)\n",
    "    df = pd.merge_asof(df, df_, on='local_ts', direction='backward')\n",
    "    df.set_index('local_ts', inplace=True)\n",
    "    df.sort_index(inplace=True)\n",
    "    \n",
    "del df_trades, df_trades_spot"
   ]
  },
  {
   "cell_type": "code",
   "execution_count": 30,
   "id": "849bb0c0",
   "metadata": {},
   "outputs": [
    {
     "data": {
      "text/html": [
       "<div>\n",
       "<style scoped>\n",
       "    .dataframe tbody tr th:only-of-type {\n",
       "        vertical-align: middle;\n",
       "    }\n",
       "\n",
       "    .dataframe tbody tr th {\n",
       "        vertical-align: top;\n",
       "    }\n",
       "\n",
       "    .dataframe thead th {\n",
       "        text-align: right;\n",
       "    }\n",
       "</style>\n",
       "<table border=\"1\" class=\"dataframe\">\n",
       "  <thead>\n",
       "    <tr style=\"text-align: right;\">\n",
       "      <th></th>\n",
       "      <th>target</th>\n",
       "      <th>bid_price_perp</th>\n",
       "      <th>bid_amount_perp</th>\n",
       "      <th>ask_price_perp</th>\n",
       "      <th>ask_amount_perp</th>\n",
       "      <th>bid_price_spot</th>\n",
       "      <th>bid_amount_spot</th>\n",
       "      <th>ask_price_spot</th>\n",
       "      <th>ask_amount_spot</th>\n",
       "      <th>imb_bid_perp</th>\n",
       "      <th>...</th>\n",
       "      <th>tfi_100_perp</th>\n",
       "      <th>tfi_250_perp</th>\n",
       "      <th>tfi_500_perp</th>\n",
       "      <th>tfi_1000_perp</th>\n",
       "      <th>tfi_2000_perp</th>\n",
       "      <th>tfi_100_spot</th>\n",
       "      <th>tfi_250_spot</th>\n",
       "      <th>tfi_500_spot</th>\n",
       "      <th>tfi_1000_spot</th>\n",
       "      <th>tfi_2000_spot</th>\n",
       "    </tr>\n",
       "    <tr>\n",
       "      <th>local_ts</th>\n",
       "      <th></th>\n",
       "      <th></th>\n",
       "      <th></th>\n",
       "      <th></th>\n",
       "      <th></th>\n",
       "      <th></th>\n",
       "      <th></th>\n",
       "      <th></th>\n",
       "      <th></th>\n",
       "      <th></th>\n",
       "      <th></th>\n",
       "      <th></th>\n",
       "      <th></th>\n",
       "      <th></th>\n",
       "      <th></th>\n",
       "      <th></th>\n",
       "      <th></th>\n",
       "      <th></th>\n",
       "      <th></th>\n",
       "      <th></th>\n",
       "      <th></th>\n",
       "    </tr>\n",
       "  </thead>\n",
       "  <tbody>\n",
       "    <tr>\n",
       "      <th>2023-03-22 00:00:00.002269696</th>\n",
       "      <td>0</td>\n",
       "      <td>28091.1</td>\n",
       "      <td>0.885</td>\n",
       "      <td>28091.2</td>\n",
       "      <td>17.243</td>\n",
       "      <td>NaN</td>\n",
       "      <td>NaN</td>\n",
       "      <td>NaN</td>\n",
       "      <td>NaN</td>\n",
       "      <td>NaN</td>\n",
       "      <td>...</td>\n",
       "      <td>-0.004</td>\n",
       "      <td>-0.004</td>\n",
       "      <td>-0.004</td>\n",
       "      <td>-0.004</td>\n",
       "      <td>-0.004</td>\n",
       "      <td>-0.00147</td>\n",
       "      <td>-0.00147</td>\n",
       "      <td>-0.00147</td>\n",
       "      <td>-0.00147</td>\n",
       "      <td>-0.00147</td>\n",
       "    </tr>\n",
       "    <tr>\n",
       "      <th>2023-03-22 00:00:00.023076352</th>\n",
       "      <td>0</td>\n",
       "      <td>28091.1</td>\n",
       "      <td>0.685</td>\n",
       "      <td>28091.2</td>\n",
       "      <td>17.243</td>\n",
       "      <td>28105.80</td>\n",
       "      <td>0.00191</td>\n",
       "      <td>28106.89</td>\n",
       "      <td>0.00638</td>\n",
       "      <td>NaN</td>\n",
       "      <td>...</td>\n",
       "      <td>-0.204</td>\n",
       "      <td>-0.204</td>\n",
       "      <td>-0.204</td>\n",
       "      <td>-0.204</td>\n",
       "      <td>-0.204</td>\n",
       "      <td>-0.72505</td>\n",
       "      <td>-0.72505</td>\n",
       "      <td>-0.72505</td>\n",
       "      <td>-0.72505</td>\n",
       "      <td>-0.72505</td>\n",
       "    </tr>\n",
       "    <tr>\n",
       "      <th>2023-03-22 00:00:00.025819392</th>\n",
       "      <td>0</td>\n",
       "      <td>28091.1</td>\n",
       "      <td>0.685</td>\n",
       "      <td>28091.2</td>\n",
       "      <td>17.223</td>\n",
       "      <td>28105.08</td>\n",
       "      <td>0.03912</td>\n",
       "      <td>28105.42</td>\n",
       "      <td>0.00400</td>\n",
       "      <td>NaN</td>\n",
       "      <td>...</td>\n",
       "      <td>-0.204</td>\n",
       "      <td>-0.204</td>\n",
       "      <td>-0.204</td>\n",
       "      <td>-0.204</td>\n",
       "      <td>-0.204</td>\n",
       "      <td>-0.72932</td>\n",
       "      <td>-0.72932</td>\n",
       "      <td>-0.72932</td>\n",
       "      <td>-0.72932</td>\n",
       "      <td>-0.72932</td>\n",
       "    </tr>\n",
       "  </tbody>\n",
       "</table>\n",
       "<p>3 rows × 23 columns</p>\n",
       "</div>"
      ],
      "text/plain": [
       "                               target  bid_price_perp  bid_amount_perp  \\\n",
       "local_ts                                                                 \n",
       "2023-03-22 00:00:00.002269696       0         28091.1            0.885   \n",
       "2023-03-22 00:00:00.023076352       0         28091.1            0.685   \n",
       "2023-03-22 00:00:00.025819392       0         28091.1            0.685   \n",
       "\n",
       "                               ask_price_perp  ask_amount_perp  \\\n",
       "local_ts                                                         \n",
       "2023-03-22 00:00:00.002269696         28091.2           17.243   \n",
       "2023-03-22 00:00:00.023076352         28091.2           17.243   \n",
       "2023-03-22 00:00:00.025819392         28091.2           17.223   \n",
       "\n",
       "                               bid_price_spot  bid_amount_spot  \\\n",
       "local_ts                                                         \n",
       "2023-03-22 00:00:00.002269696             NaN              NaN   \n",
       "2023-03-22 00:00:00.023076352        28105.80          0.00191   \n",
       "2023-03-22 00:00:00.025819392        28105.08          0.03912   \n",
       "\n",
       "                               ask_price_spot  ask_amount_spot  imb_bid_perp  \\\n",
       "local_ts                                                                       \n",
       "2023-03-22 00:00:00.002269696             NaN              NaN           NaN   \n",
       "2023-03-22 00:00:00.023076352        28106.89          0.00638           NaN   \n",
       "2023-03-22 00:00:00.025819392        28105.42          0.00400           NaN   \n",
       "\n",
       "                               ...  tfi_100_perp  tfi_250_perp  tfi_500_perp  \\\n",
       "local_ts                       ...                                             \n",
       "2023-03-22 00:00:00.002269696  ...        -0.004        -0.004        -0.004   \n",
       "2023-03-22 00:00:00.023076352  ...        -0.204        -0.204        -0.204   \n",
       "2023-03-22 00:00:00.025819392  ...        -0.204        -0.204        -0.204   \n",
       "\n",
       "                               tfi_1000_perp  tfi_2000_perp  tfi_100_spot  \\\n",
       "local_ts                                                                    \n",
       "2023-03-22 00:00:00.002269696         -0.004         -0.004      -0.00147   \n",
       "2023-03-22 00:00:00.023076352         -0.204         -0.204      -0.72505   \n",
       "2023-03-22 00:00:00.025819392         -0.204         -0.204      -0.72932   \n",
       "\n",
       "                               tfi_250_spot  tfi_500_spot  tfi_1000_spot  \\\n",
       "local_ts                                                                   \n",
       "2023-03-22 00:00:00.002269696      -0.00147      -0.00147       -0.00147   \n",
       "2023-03-22 00:00:00.023076352      -0.72505      -0.72505       -0.72505   \n",
       "2023-03-22 00:00:00.025819392      -0.72932      -0.72932       -0.72932   \n",
       "\n",
       "                               tfi_2000_spot  \n",
       "local_ts                                      \n",
       "2023-03-22 00:00:00.002269696       -0.00147  \n",
       "2023-03-22 00:00:00.023076352       -0.72505  \n",
       "2023-03-22 00:00:00.025819392       -0.72932  \n",
       "\n",
       "[3 rows x 23 columns]"
      ]
     },
     "execution_count": 30,
     "metadata": {},
     "output_type": "execute_result"
    }
   ],
   "source": [
    "df.head(3)"
   ]
  },
  {
   "cell_type": "markdown",
   "id": "1beb9fcf",
   "metadata": {},
   "source": [
    "## Past Returns"
   ]
  },
  {
   "cell_type": "code",
   "execution_count": 31,
   "id": "1dab7cc5",
   "metadata": {},
   "outputs": [],
   "source": [
    "df_trades = pd.read_csv(trades_path, usecols = [0, 4, 5])\n",
    "df_trades['local_ts'] = pd.to_datetime(df_trades['local_ts'])\n",
    "df_trades = (\n",
    "    df_trades.drop_duplicates(subset='local_ts', keep='last')\n",
    "    .set_index('local_ts').sort_index()\n",
    ")\n",
    "\n",
    "df_trades_spot = pd.read_csv(trades_spot_path, usecols = [0, 4, 5])\n",
    "df_trades_spot['local_ts'] = pd.to_datetime(df_trades_spot['local_ts'])\n",
    "df_trades_spot = (\n",
    "    df_trades_spot.drop_duplicates(subset='local_ts', keep='last')\n",
    "    .set_index('local_ts').sort_index()\n",
    ")"
   ]
  },
  {
   "cell_type": "code",
   "execution_count": 32,
   "id": "25570dd8",
   "metadata": {},
   "outputs": [],
   "source": [
    "# def get_pret(x, df_trades, time_horizon=100):\n",
    "#     trades_now = df_trades.loc[(x['local_ts'] - datetime.timedelta(milliseconds=50)):x['local_ts']]\n",
    "#     p_now = (trades_now['price'] * trades_now['amount']).sum() / trades_now['amount'].sum()\n",
    "    \n",
    "#     time_lagged = x['local_ts'] - datetime.timedelta(milliseconds=time_horizon)\n",
    "#     trades_lagged = df_trades.loc[(time_lagged - datetime.timedelta(milliseconds=50)):time_lagged]\n",
    "#     p_lagged = (trades_lagged['price'] * trades_lagged['amount']).sum() / trades_lagged['amount'].sum()\n",
    "    \n",
    "#     return (p_now / p_lagged - 1) * 10000\n",
    "\n",
    "# for time_horizon in [100, 250, 500, 1000, 2000]: \n",
    "#     df[f'pret_{time_horizon}'] = df.progress_apply(\n",
    "#         lambda x: get_pret(x, df_trades, time_horizon=time_horizon),\n",
    "#         axis=1\n",
    "#     )"
   ]
  },
  {
   "cell_type": "code",
   "execution_count": 33,
   "id": "24c9a953",
   "metadata": {},
   "outputs": [
    {
     "data": {
      "application/vnd.jupyter.widget-view+json": {
       "model_id": "5361c19d9aba4b0781caf9bc01da4208",
       "version_major": 2,
       "version_minor": 0
      },
      "text/plain": [
       "  0%|          | 0/2 [00:00<?, ?it/s]"
      ]
     },
     "metadata": {},
     "output_type": "display_data"
    },
    {
     "data": {
      "application/vnd.jupyter.widget-view+json": {
       "model_id": "00efc645875344c0a77e68eab160fdbb",
       "version_major": 2,
       "version_minor": 0
      },
      "text/plain": [
       "  0%|          | 0/5 [00:00<?, ?it/s]"
      ]
     },
     "metadata": {},
     "output_type": "display_data"
    },
    {
     "data": {
      "application/vnd.jupyter.widget-view+json": {
       "model_id": "2feafba30ab04ae3a31b29431bc08f53",
       "version_major": 2,
       "version_minor": 0
      },
      "text/plain": [
       "  0%|          | 0/5 [00:00<?, ?it/s]"
      ]
     },
     "metadata": {},
     "output_type": "display_data"
    }
   ],
   "source": [
    "for df_, postfix in tqdm([(df_trades, 'perp'), (df_trades_spot, 'spot')]):    \n",
    "    df_['p_a'] = df_['price'] * df_['amount']\n",
    "    df_.drop(columns=['price'], inplace=True)\n",
    "\n",
    "    df_[['cum_amount', 'cum_p_a']] = df_[['amount', 'p_a']].rolling('50ms', min_periods=1).sum()\n",
    "    df_.drop(columns=['amount', 'p_a'], inplace=True)\n",
    "\n",
    "    df_['p'] = df_['cum_p_a'] / df_['cum_amount']\n",
    "    df_.drop(columns=['cum_amount', 'cum_p_a'], inplace=True)\n",
    "\n",
    "    tqdm_horizons = tqdm([100, 250, 500, 1000, 2000])\n",
    "    for time_horizon in tqdm_horizons:\n",
    "        tqdm_horizons.set_description(f'{time_horizon}ms is processing')\n",
    "\n",
    "        df_[f'p_lag_{time_horizon}'] = df_.set_index(\n",
    "            df_.index + pd.Timedelta(f'{time_horizon}ms')\n",
    "        ).reindex(df_.index, method='ffill')['p']\n",
    "\n",
    "        df_[f'pret_{time_horizon}_{postfix}'] = (\n",
    "            (df_['p'] / df_[f'p_lag_{time_horizon}'] - 1) * 10000\n",
    "        )\n",
    "\n",
    "        df_.drop(columns=[f'p_lag_{time_horizon}'], inplace=True)\n",
    "\n",
    "    df_.drop(columns=['p'], inplace=True)\n",
    "    df = pd.merge_asof(df, df_, on='local_ts', direction='backward')\n",
    "    df.set_index('local_ts', inplace=True)\n",
    "    df.sort_index(inplace=True)\n",
    "del df_trades, df_trades_spot"
   ]
  },
  {
   "cell_type": "markdown",
   "id": "5447ad95",
   "metadata": {},
   "source": [
    "## Mean Divergence"
   ]
  },
  {
   "cell_type": "code",
   "execution_count": 35,
   "id": "f6092585",
   "metadata": {},
   "outputs": [],
   "source": [
    "df['mid_price_perp'] = (df['bid_price_perp'] + df['ask_price_perp']) / 2\n",
    "df['mid_price_spot'] = (df['bid_price_spot'] + df['ask_price_spot']) / 2\n",
    "\n",
    "df['div'] = (df['mid_price_perp'] / df['mid_price_spot'] - 1) * 10000"
   ]
  },
  {
   "cell_type": "code",
   "execution_count": 36,
   "id": "0e9d5b60",
   "metadata": {},
   "outputs": [
    {
     "data": {
      "application/vnd.jupyter.widget-view+json": {
       "model_id": "b42158b517c8467d93d71e8aa0f80472",
       "version_major": 2,
       "version_minor": 0
      },
      "text/plain": [
       "  0%|          | 0/8 [00:00<?, ?it/s]"
      ]
     },
     "metadata": {},
     "output_type": "display_data"
    }
   ],
   "source": [
    "tqdm_horizons = tqdm([5, 9, 19, 38, 75, 150, 300, 600])\n",
    "for horizon in tqdm_horizons:\n",
    "    tqdm_horizons.set_description(f'{time_horizon}s is processing')\n",
    "    \n",
    "    df['roll_div'] = df['div'].rolling(f'{horizon}s', min_periods=1).mean()\n",
    "    df[f'mean_div_{horizon}s'] = df['div'] - df['roll_div']\n",
    "    df.drop(columns=['roll_div'], inplace=True)"
   ]
  },
  {
   "cell_type": "code",
   "execution_count": 37,
   "id": "29016b32",
   "metadata": {
    "scrolled": true
   },
   "outputs": [
    {
     "data": {
      "text/html": [
       "<div>\n",
       "<style scoped>\n",
       "    .dataframe tbody tr th:only-of-type {\n",
       "        vertical-align: middle;\n",
       "    }\n",
       "\n",
       "    .dataframe tbody tr th {\n",
       "        vertical-align: top;\n",
       "    }\n",
       "\n",
       "    .dataframe thead th {\n",
       "        text-align: right;\n",
       "    }\n",
       "</style>\n",
       "<table border=\"1\" class=\"dataframe\">\n",
       "  <thead>\n",
       "    <tr style=\"text-align: right;\">\n",
       "      <th></th>\n",
       "      <th>target</th>\n",
       "      <th>bid_price_perp</th>\n",
       "      <th>bid_amount_perp</th>\n",
       "      <th>ask_price_perp</th>\n",
       "      <th>ask_amount_perp</th>\n",
       "      <th>bid_price_spot</th>\n",
       "      <th>bid_amount_spot</th>\n",
       "      <th>ask_price_spot</th>\n",
       "      <th>ask_amount_spot</th>\n",
       "      <th>imb_bid_perp</th>\n",
       "      <th>...</th>\n",
       "      <th>mid_price_spot</th>\n",
       "      <th>div</th>\n",
       "      <th>mean_div_5s</th>\n",
       "      <th>mean_div_9s</th>\n",
       "      <th>mean_div_19s</th>\n",
       "      <th>mean_div_38s</th>\n",
       "      <th>mean_div_75s</th>\n",
       "      <th>mean_div_150s</th>\n",
       "      <th>mean_div_300s</th>\n",
       "      <th>mean_div_600s</th>\n",
       "    </tr>\n",
       "    <tr>\n",
       "      <th>local_ts</th>\n",
       "      <th></th>\n",
       "      <th></th>\n",
       "      <th></th>\n",
       "      <th></th>\n",
       "      <th></th>\n",
       "      <th></th>\n",
       "      <th></th>\n",
       "      <th></th>\n",
       "      <th></th>\n",
       "      <th></th>\n",
       "      <th></th>\n",
       "      <th></th>\n",
       "      <th></th>\n",
       "      <th></th>\n",
       "      <th></th>\n",
       "      <th></th>\n",
       "      <th></th>\n",
       "      <th></th>\n",
       "      <th></th>\n",
       "      <th></th>\n",
       "      <th></th>\n",
       "    </tr>\n",
       "  </thead>\n",
       "  <tbody>\n",
       "    <tr>\n",
       "      <th>2023-03-22 00:00:00.002269696</th>\n",
       "      <td>0</td>\n",
       "      <td>28091.1</td>\n",
       "      <td>0.885</td>\n",
       "      <td>28091.2</td>\n",
       "      <td>17.243</td>\n",
       "      <td>NaN</td>\n",
       "      <td>NaN</td>\n",
       "      <td>NaN</td>\n",
       "      <td>NaN</td>\n",
       "      <td>NaN</td>\n",
       "      <td>...</td>\n",
       "      <td>NaN</td>\n",
       "      <td>NaN</td>\n",
       "      <td>NaN</td>\n",
       "      <td>NaN</td>\n",
       "      <td>NaN</td>\n",
       "      <td>NaN</td>\n",
       "      <td>NaN</td>\n",
       "      <td>NaN</td>\n",
       "      <td>NaN</td>\n",
       "      <td>NaN</td>\n",
       "    </tr>\n",
       "    <tr>\n",
       "      <th>2023-03-22 00:00:00.023076352</th>\n",
       "      <td>0</td>\n",
       "      <td>28091.1</td>\n",
       "      <td>0.685</td>\n",
       "      <td>28091.2</td>\n",
       "      <td>17.243</td>\n",
       "      <td>28105.80</td>\n",
       "      <td>0.00191</td>\n",
       "      <td>28106.89</td>\n",
       "      <td>0.00638</td>\n",
       "      <td>NaN</td>\n",
       "      <td>...</td>\n",
       "      <td>28106.345</td>\n",
       "      <td>-5.406253</td>\n",
       "      <td>0.000000</td>\n",
       "      <td>0.000000</td>\n",
       "      <td>0.000000</td>\n",
       "      <td>0.000000</td>\n",
       "      <td>0.000000</td>\n",
       "      <td>0.000000</td>\n",
       "      <td>0.000000</td>\n",
       "      <td>0.000000</td>\n",
       "    </tr>\n",
       "    <tr>\n",
       "      <th>2023-03-22 00:00:00.025819392</th>\n",
       "      <td>0</td>\n",
       "      <td>28091.1</td>\n",
       "      <td>0.685</td>\n",
       "      <td>28091.2</td>\n",
       "      <td>17.223</td>\n",
       "      <td>28105.08</td>\n",
       "      <td>0.03912</td>\n",
       "      <td>28105.42</td>\n",
       "      <td>0.00400</td>\n",
       "      <td>NaN</td>\n",
       "      <td>...</td>\n",
       "      <td>28105.250</td>\n",
       "      <td>-5.016856</td>\n",
       "      <td>0.194698</td>\n",
       "      <td>0.194698</td>\n",
       "      <td>0.194698</td>\n",
       "      <td>0.194698</td>\n",
       "      <td>0.194698</td>\n",
       "      <td>0.194698</td>\n",
       "      <td>0.194698</td>\n",
       "      <td>0.194698</td>\n",
       "    </tr>\n",
       "  </tbody>\n",
       "</table>\n",
       "<p>3 rows × 44 columns</p>\n",
       "</div>"
      ],
      "text/plain": [
       "                               target  bid_price_perp  bid_amount_perp  \\\n",
       "local_ts                                                                 \n",
       "2023-03-22 00:00:00.002269696       0         28091.1            0.885   \n",
       "2023-03-22 00:00:00.023076352       0         28091.1            0.685   \n",
       "2023-03-22 00:00:00.025819392       0         28091.1            0.685   \n",
       "\n",
       "                               ask_price_perp  ask_amount_perp  \\\n",
       "local_ts                                                         \n",
       "2023-03-22 00:00:00.002269696         28091.2           17.243   \n",
       "2023-03-22 00:00:00.023076352         28091.2           17.243   \n",
       "2023-03-22 00:00:00.025819392         28091.2           17.223   \n",
       "\n",
       "                               bid_price_spot  bid_amount_spot  \\\n",
       "local_ts                                                         \n",
       "2023-03-22 00:00:00.002269696             NaN              NaN   \n",
       "2023-03-22 00:00:00.023076352        28105.80          0.00191   \n",
       "2023-03-22 00:00:00.025819392        28105.08          0.03912   \n",
       "\n",
       "                               ask_price_spot  ask_amount_spot  imb_bid_perp  \\\n",
       "local_ts                                                                       \n",
       "2023-03-22 00:00:00.002269696             NaN              NaN           NaN   \n",
       "2023-03-22 00:00:00.023076352        28106.89          0.00638           NaN   \n",
       "2023-03-22 00:00:00.025819392        28105.42          0.00400           NaN   \n",
       "\n",
       "                               ...  mid_price_spot       div  mean_div_5s  \\\n",
       "local_ts                       ...                                          \n",
       "2023-03-22 00:00:00.002269696  ...             NaN       NaN          NaN   \n",
       "2023-03-22 00:00:00.023076352  ...       28106.345 -5.406253     0.000000   \n",
       "2023-03-22 00:00:00.025819392  ...       28105.250 -5.016856     0.194698   \n",
       "\n",
       "                               mean_div_9s  mean_div_19s  mean_div_38s  \\\n",
       "local_ts                                                                 \n",
       "2023-03-22 00:00:00.002269696          NaN           NaN           NaN   \n",
       "2023-03-22 00:00:00.023076352     0.000000      0.000000      0.000000   \n",
       "2023-03-22 00:00:00.025819392     0.194698      0.194698      0.194698   \n",
       "\n",
       "                               mean_div_75s  mean_div_150s  mean_div_300s  \\\n",
       "local_ts                                                                    \n",
       "2023-03-22 00:00:00.002269696           NaN            NaN            NaN   \n",
       "2023-03-22 00:00:00.023076352      0.000000       0.000000       0.000000   \n",
       "2023-03-22 00:00:00.025819392      0.194698       0.194698       0.194698   \n",
       "\n",
       "                               mean_div_600s  \n",
       "local_ts                                      \n",
       "2023-03-22 00:00:00.002269696            NaN  \n",
       "2023-03-22 00:00:00.023076352       0.000000  \n",
       "2023-03-22 00:00:00.025819392       0.194698  \n",
       "\n",
       "[3 rows x 44 columns]"
      ]
     },
     "execution_count": 37,
     "metadata": {},
     "output_type": "execute_result"
    }
   ],
   "source": [
    "df.head(3)"
   ]
  },
  {
   "cell_type": "code",
   "execution_count": 38,
   "id": "7f44ac0a",
   "metadata": {},
   "outputs": [],
   "source": [
    "df.to_csv('data/df.csv')"
   ]
  },
  {
   "cell_type": "code",
   "execution_count": null,
   "id": "a16e664c",
   "metadata": {},
   "outputs": [],
   "source": []
  }
 ],
 "metadata": {
  "kernelspec": {
   "display_name": "Python 3 (ipykernel)",
   "language": "python",
   "name": "python3"
  },
  "language_info": {
   "codemirror_mode": {
    "name": "ipython",
    "version": 3
   },
   "file_extension": ".py",
   "mimetype": "text/x-python",
   "name": "python",
   "nbconvert_exporter": "python",
   "pygments_lexer": "ipython3",
   "version": "3.8.13"
  }
 },
 "nbformat": 4,
 "nbformat_minor": 5
}
