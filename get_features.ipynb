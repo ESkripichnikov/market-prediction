{
 "cells": [
  {
   "cell_type": "code",
   "execution_count": 97,
   "id": "64775fad",
   "metadata": {},
   "outputs": [],
   "source": [
    "import datetime\n",
    "import numpy as np\n",
    "import pandas as pd\n",
    "\n",
    "import plotly.express as px\n",
    "import plotly.graph_objects as go\n",
    "from plotly.subplots import make_subplots\n",
    "import matplotlib.pyplot as plt\n",
    "\n",
    "import warnings\n",
    "warnings.filterwarnings('ignore')\n",
    "\n",
    "from tqdm import tqdm\n",
    "tqdm.pandas()"
   ]
  },
  {
   "cell_type": "code",
   "execution_count": 2,
   "id": "e127cb13",
   "metadata": {},
   "outputs": [],
   "source": [
    "target_path = 'data/target.csv'\n",
    "ticker_path = 'data/ticker.csv' # 'data/ticker.spot.csv'\n",
    "book_path = 'data/book.csv' # 'data/book.spot.csv'\n",
    "trades_path = 'data/trades.csv' # 'data/trades.spot.csv'"
   ]
  },
  {
   "cell_type": "code",
   "execution_count": 4,
   "id": "6e742c87",
   "metadata": {},
   "outputs": [],
   "source": [
    "df_target = pd.read_csv(target_path)\n",
    "df_ticker = pd.read_csv(ticker_path,\n",
    "                        usecols = [0, 4, 5, 6, 7])\n",
    "df_book = pd.read_csv(book_path, usecols=range(3, 104))"
   ]
  },
  {
   "cell_type": "markdown",
   "id": "a01f2776",
   "metadata": {},
   "source": [
    "# Preprocessing"
   ]
  },
  {
   "cell_type": "code",
   "execution_count": 6,
   "id": "1d6494bf",
   "metadata": {},
   "outputs": [],
   "source": [
    "df_target['local_ts'] = pd.to_datetime(df_target['local_ts'])\n",
    "df_ticker['local_ts'] = pd.to_datetime(df_ticker['local_ts'])\n",
    "df_book['local_timestamp'] = pd.to_datetime(df_book['local_timestamp'])"
   ]
  },
  {
   "cell_type": "markdown",
   "id": "246226e9",
   "metadata": {},
   "source": [
    "Удалим дупликаты и установим в качестве индекса 'local_ts'"
   ]
  },
  {
   "cell_type": "code",
   "execution_count": 7,
   "id": "083db82d",
   "metadata": {
    "scrolled": true
   },
   "outputs": [],
   "source": [
    "df_target = (\n",
    "    df_target.drop_duplicates(subset='local_ts', keep='last')\n",
    "    .set_index('local_ts').sort_index()\n",
    ")\n",
    "\n",
    "df_ticker = (\n",
    "    df_ticker.drop_duplicates(subset='local_ts', keep='last')\n",
    "    .set_index('local_ts').sort_index()\n",
    ")\n",
    "\n",
    "df_book.rename(columns={'local_timestamp': 'local_ts'}, inplace=True)\n",
    "df_book = (\n",
    "    df_book.drop_duplicates(subset='local_ts', keep='last')\n",
    "    .set_index('local_ts').sort_index()\n",
    ")"
   ]
  },
  {
   "cell_type": "markdown",
   "id": "2b3fa09a",
   "metadata": {},
   "source": [
    "Преобразуем df_book: вместо множества столбцов сделаем несколько со списками внутри"
   ]
  },
  {
   "cell_type": "code",
   "execution_count": 10,
   "id": "11de5feb",
   "metadata": {},
   "outputs": [],
   "source": [
    "df_book['best_bid'] = df_book['bids[0].price']\n",
    "df_book['best_ask'] = df_book['asks[0].price']\n",
    "df_book['worst_bid'] = df_book['bids[24].price']\n",
    "df_book['worst_ask'] = df_book['asks[24].price']"
   ]
  },
  {
   "cell_type": "code",
   "execution_count": 11,
   "id": "43d43d2a",
   "metadata": {},
   "outputs": [
    {
     "name": "stdout",
     "output_type": "stream",
     "text": [
      "bid_prices are done\n",
      "bid_amounts are done\n",
      "ask_prices are done\n",
      "ask_amounts are done\n",
      "CPU times: user 1min 4s, sys: 1min 30s, total: 2min 35s\n",
      "Wall time: 3min 54s\n"
     ]
    }
   ],
   "source": [
    "%%time\n",
    "\n",
    "filters = [('bid_prices', [f'bids[{i}].price' for i in range(0, 25)]),\n",
    "           ('bid_amounts', [f'bids[{i}].amount' for i in range(0, 25)]),\n",
    "           ('ask_prices', [f'asks[{i}].price' for i in range(0, 25)]),\n",
    "           ('ask_amounts', [f'asks[{i}].amount' for i in range(0, 25)])]\n",
    "for key, filt in filters:\n",
    "    df_book[key] = df_book[filt].values.tolist()\n",
    "    df_book.drop(columns=filt, inplace=True)\n",
    "    print(f'{key} are done')"
   ]
  },
  {
   "cell_type": "code",
   "execution_count": 7,
   "id": "9fc90bc6",
   "metadata": {},
   "outputs": [],
   "source": [
    "## более универсальный способ сделать то, что сделано в предыдущей ячейке, но возможно более медленный\n",
    "\n",
    "# filters = [('ask_prices', 'asks\\[\\d+\\]\\.price'), ('ask_amounts', 'asks\\[\\d+\\]\\.amount'),\n",
    "#            ('bid_prices', 'bids\\[\\d+\\]\\.price'), ('bid_amounts', 'bids\\[\\d+\\]\\.amount')]\n",
    "# for key, filt in filters:\n",
    "#     df[key] = df.filter(regex=filt).values.tolist()\n",
    "#     df.drop(columns=df.filter(regex=filt).columns, inplace=True)"
   ]
  },
  {
   "cell_type": "code",
   "execution_count": 12,
   "id": "c60360ab",
   "metadata": {},
   "outputs": [
    {
     "data": {
      "text/html": [
       "<div>\n",
       "<style scoped>\n",
       "    .dataframe tbody tr th:only-of-type {\n",
       "        vertical-align: middle;\n",
       "    }\n",
       "\n",
       "    .dataframe tbody tr th {\n",
       "        vertical-align: top;\n",
       "    }\n",
       "\n",
       "    .dataframe thead th {\n",
       "        text-align: right;\n",
       "    }\n",
       "</style>\n",
       "<table border=\"1\" class=\"dataframe\">\n",
       "  <thead>\n",
       "    <tr style=\"text-align: right;\">\n",
       "      <th></th>\n",
       "      <th>best_bid</th>\n",
       "      <th>best_ask</th>\n",
       "      <th>worst_bid</th>\n",
       "      <th>worst_ask</th>\n",
       "      <th>bid_prices</th>\n",
       "      <th>bid_amounts</th>\n",
       "      <th>ask_prices</th>\n",
       "      <th>ask_amounts</th>\n",
       "    </tr>\n",
       "    <tr>\n",
       "      <th>local_ts</th>\n",
       "      <th></th>\n",
       "      <th></th>\n",
       "      <th></th>\n",
       "      <th></th>\n",
       "      <th></th>\n",
       "      <th></th>\n",
       "      <th></th>\n",
       "      <th></th>\n",
       "    </tr>\n",
       "  </thead>\n",
       "  <tbody>\n",
       "    <tr>\n",
       "      <th>2023-03-22 00:00:00.485131264</th>\n",
       "      <td>28091.1</td>\n",
       "      <td>28091.2</td>\n",
       "      <td>28087.6</td>\n",
       "      <td>28093.7</td>\n",
       "      <td>[28091.1, 28091.0, 28090.8, 28090.7, 28090.6, ...</td>\n",
       "      <td>[0.001, 0.003, 0.002, 0.002, 0.002, 0.02, 0.00...</td>\n",
       "      <td>[28091.2, 28091.3, 28091.4, 28091.5, 28091.6, ...</td>\n",
       "      <td>[16.183, 7.874, 1.451, 5.937, 0.298, 0.018, 0....</td>\n",
       "    </tr>\n",
       "    <tr>\n",
       "      <th>2023-03-22 00:00:02.065465600</th>\n",
       "      <td>28090.8</td>\n",
       "      <td>28090.9</td>\n",
       "      <td>28087.4</td>\n",
       "      <td>28093.5</td>\n",
       "      <td>[28090.8, 28090.7, 28090.6, 28090.5, 28090.4, ...</td>\n",
       "      <td>[0.002, 0.002, 0.002, 0.02, 0.001, 0.001, 0.00...</td>\n",
       "      <td>[28090.9, 28091.0, 28091.2, 28091.3, 28091.4, ...</td>\n",
       "      <td>[6.995, 0.735, 15.633, 7.874, 1.451, 5.937, 0....</td>\n",
       "    </tr>\n",
       "    <tr>\n",
       "      <th>2023-03-22 00:00:02.691394048</th>\n",
       "      <td>28090.8</td>\n",
       "      <td>28090.9</td>\n",
       "      <td>28087.4</td>\n",
       "      <td>28093.5</td>\n",
       "      <td>[28090.8, 28090.7, 28090.6, 28090.5, 28090.4, ...</td>\n",
       "      <td>[0.002, 0.002, 0.002, 0.02, 0.001, 0.001, 0.00...</td>\n",
       "      <td>[28090.9, 28091.0, 28091.2, 28091.3, 28091.4, ...</td>\n",
       "      <td>[7.005, 0.735, 15.633, 7.874, 1.451, 5.937, 0....</td>\n",
       "    </tr>\n",
       "    <tr>\n",
       "      <th>2023-03-22 00:00:02.812150528</th>\n",
       "      <td>28090.8</td>\n",
       "      <td>28090.9</td>\n",
       "      <td>28087.4</td>\n",
       "      <td>28093.5</td>\n",
       "      <td>[28090.8, 28090.7, 28090.6, 28090.5, 28090.4, ...</td>\n",
       "      <td>[0.002, 0.002, 0.002, 0.02, 0.001, 0.001, 0.00...</td>\n",
       "      <td>[28090.9, 28091.0, 28091.2, 28091.3, 28091.4, ...</td>\n",
       "      <td>[6.885, 0.735, 15.633, 7.874, 1.451, 5.937, 0....</td>\n",
       "    </tr>\n",
       "    <tr>\n",
       "      <th>2023-03-22 00:00:03.188767744</th>\n",
       "      <td>28090.8</td>\n",
       "      <td>28090.9</td>\n",
       "      <td>28087.4</td>\n",
       "      <td>28093.5</td>\n",
       "      <td>[28090.8, 28090.7, 28090.6, 28090.5, 28090.4, ...</td>\n",
       "      <td>[0.002, 0.002, 0.002, 0.02, 0.001, 0.001, 0.00...</td>\n",
       "      <td>[28090.9, 28091.0, 28091.2, 28091.3, 28091.4, ...</td>\n",
       "      <td>[6.885, 0.735, 15.633, 7.874, 1.451, 5.937, 0....</td>\n",
       "    </tr>\n",
       "  </tbody>\n",
       "</table>\n",
       "</div>"
      ],
      "text/plain": [
       "                               best_bid  best_ask  worst_bid  worst_ask  \\\n",
       "local_ts                                                                  \n",
       "2023-03-22 00:00:00.485131264   28091.1   28091.2    28087.6    28093.7   \n",
       "2023-03-22 00:00:02.065465600   28090.8   28090.9    28087.4    28093.5   \n",
       "2023-03-22 00:00:02.691394048   28090.8   28090.9    28087.4    28093.5   \n",
       "2023-03-22 00:00:02.812150528   28090.8   28090.9    28087.4    28093.5   \n",
       "2023-03-22 00:00:03.188767744   28090.8   28090.9    28087.4    28093.5   \n",
       "\n",
       "                                                                      bid_prices  \\\n",
       "local_ts                                                                           \n",
       "2023-03-22 00:00:00.485131264  [28091.1, 28091.0, 28090.8, 28090.7, 28090.6, ...   \n",
       "2023-03-22 00:00:02.065465600  [28090.8, 28090.7, 28090.6, 28090.5, 28090.4, ...   \n",
       "2023-03-22 00:00:02.691394048  [28090.8, 28090.7, 28090.6, 28090.5, 28090.4, ...   \n",
       "2023-03-22 00:00:02.812150528  [28090.8, 28090.7, 28090.6, 28090.5, 28090.4, ...   \n",
       "2023-03-22 00:00:03.188767744  [28090.8, 28090.7, 28090.6, 28090.5, 28090.4, ...   \n",
       "\n",
       "                                                                     bid_amounts  \\\n",
       "local_ts                                                                           \n",
       "2023-03-22 00:00:00.485131264  [0.001, 0.003, 0.002, 0.002, 0.002, 0.02, 0.00...   \n",
       "2023-03-22 00:00:02.065465600  [0.002, 0.002, 0.002, 0.02, 0.001, 0.001, 0.00...   \n",
       "2023-03-22 00:00:02.691394048  [0.002, 0.002, 0.002, 0.02, 0.001, 0.001, 0.00...   \n",
       "2023-03-22 00:00:02.812150528  [0.002, 0.002, 0.002, 0.02, 0.001, 0.001, 0.00...   \n",
       "2023-03-22 00:00:03.188767744  [0.002, 0.002, 0.002, 0.02, 0.001, 0.001, 0.00...   \n",
       "\n",
       "                                                                      ask_prices  \\\n",
       "local_ts                                                                           \n",
       "2023-03-22 00:00:00.485131264  [28091.2, 28091.3, 28091.4, 28091.5, 28091.6, ...   \n",
       "2023-03-22 00:00:02.065465600  [28090.9, 28091.0, 28091.2, 28091.3, 28091.4, ...   \n",
       "2023-03-22 00:00:02.691394048  [28090.9, 28091.0, 28091.2, 28091.3, 28091.4, ...   \n",
       "2023-03-22 00:00:02.812150528  [28090.9, 28091.0, 28091.2, 28091.3, 28091.4, ...   \n",
       "2023-03-22 00:00:03.188767744  [28090.9, 28091.0, 28091.2, 28091.3, 28091.4, ...   \n",
       "\n",
       "                                                                     ask_amounts  \n",
       "local_ts                                                                          \n",
       "2023-03-22 00:00:00.485131264  [16.183, 7.874, 1.451, 5.937, 0.298, 0.018, 0....  \n",
       "2023-03-22 00:00:02.065465600  [6.995, 0.735, 15.633, 7.874, 1.451, 5.937, 0....  \n",
       "2023-03-22 00:00:02.691394048  [7.005, 0.735, 15.633, 7.874, 1.451, 5.937, 0....  \n",
       "2023-03-22 00:00:02.812150528  [6.885, 0.735, 15.633, 7.874, 1.451, 5.937, 0....  \n",
       "2023-03-22 00:00:03.188767744  [6.885, 0.735, 15.633, 7.874, 1.451, 5.937, 0....  "
      ]
     },
     "execution_count": 12,
     "metadata": {},
     "output_type": "execute_result"
    }
   ],
   "source": [
    "df_book.head()"
   ]
  },
  {
   "cell_type": "markdown",
   "id": "8ddb8fdf",
   "metadata": {},
   "source": [
    "Соединим df_target и df_ticker в один датафрейм, в который в дальнейшем будем добавлять сгенерированные фичи"
   ]
  },
  {
   "cell_type": "code",
   "execution_count": 13,
   "id": "3f905355",
   "metadata": {},
   "outputs": [],
   "source": [
    "df = df_target.copy(deep=True)\n",
    "df = df.join(df_ticker, on='local_ts')"
   ]
  },
  {
   "cell_type": "code",
   "execution_count": 23,
   "id": "9a7016bc",
   "metadata": {
    "scrolled": true
   },
   "outputs": [],
   "source": [
    "# df.set_index('local_ts', inplace=True)\n",
    "df.sort_index(inplace=True)"
   ]
  },
  {
   "cell_type": "code",
   "execution_count": 25,
   "id": "d618d113",
   "metadata": {},
   "outputs": [],
   "source": [
    "del df_target, df_ticker # df_book"
   ]
  },
  {
   "cell_type": "code",
   "execution_count": 24,
   "id": "b86198ff",
   "metadata": {},
   "outputs": [
    {
     "data": {
      "text/html": [
       "<div>\n",
       "<style scoped>\n",
       "    .dataframe tbody tr th:only-of-type {\n",
       "        vertical-align: middle;\n",
       "    }\n",
       "\n",
       "    .dataframe tbody tr th {\n",
       "        vertical-align: top;\n",
       "    }\n",
       "\n",
       "    .dataframe thead th {\n",
       "        text-align: right;\n",
       "    }\n",
       "</style>\n",
       "<table border=\"1\" class=\"dataframe\">\n",
       "  <thead>\n",
       "    <tr style=\"text-align: right;\">\n",
       "      <th></th>\n",
       "      <th>target</th>\n",
       "      <th>bid_price</th>\n",
       "      <th>bid_amount</th>\n",
       "      <th>ask_price</th>\n",
       "      <th>ask_amount</th>\n",
       "    </tr>\n",
       "    <tr>\n",
       "      <th>local_ts</th>\n",
       "      <th></th>\n",
       "      <th></th>\n",
       "      <th></th>\n",
       "      <th></th>\n",
       "      <th></th>\n",
       "    </tr>\n",
       "  </thead>\n",
       "  <tbody>\n",
       "    <tr>\n",
       "      <th>2023-03-22 00:00:00.002269696</th>\n",
       "      <td>0</td>\n",
       "      <td>28091.1</td>\n",
       "      <td>0.885</td>\n",
       "      <td>28091.2</td>\n",
       "      <td>17.243</td>\n",
       "    </tr>\n",
       "    <tr>\n",
       "      <th>2023-03-22 00:00:00.023076352</th>\n",
       "      <td>0</td>\n",
       "      <td>28091.1</td>\n",
       "      <td>0.685</td>\n",
       "      <td>28091.2</td>\n",
       "      <td>17.243</td>\n",
       "    </tr>\n",
       "    <tr>\n",
       "      <th>2023-03-22 00:00:00.025819392</th>\n",
       "      <td>0</td>\n",
       "      <td>28091.1</td>\n",
       "      <td>0.685</td>\n",
       "      <td>28091.2</td>\n",
       "      <td>17.223</td>\n",
       "    </tr>\n",
       "    <tr>\n",
       "      <th>2023-03-22 00:00:00.041581312</th>\n",
       "      <td>0</td>\n",
       "      <td>28091.1</td>\n",
       "      <td>0.686</td>\n",
       "      <td>28091.2</td>\n",
       "      <td>17.223</td>\n",
       "    </tr>\n",
       "    <tr>\n",
       "      <th>2023-03-22 00:00:00.045155072</th>\n",
       "      <td>0</td>\n",
       "      <td>28091.1</td>\n",
       "      <td>0.686</td>\n",
       "      <td>28091.2</td>\n",
       "      <td>16.635</td>\n",
       "    </tr>\n",
       "  </tbody>\n",
       "</table>\n",
       "</div>"
      ],
      "text/plain": [
       "                               target  bid_price  bid_amount  ask_price  \\\n",
       "local_ts                                                                  \n",
       "2023-03-22 00:00:00.002269696       0    28091.1       0.885    28091.2   \n",
       "2023-03-22 00:00:00.023076352       0    28091.1       0.685    28091.2   \n",
       "2023-03-22 00:00:00.025819392       0    28091.1       0.685    28091.2   \n",
       "2023-03-22 00:00:00.041581312       0    28091.1       0.686    28091.2   \n",
       "2023-03-22 00:00:00.045155072       0    28091.1       0.686    28091.2   \n",
       "\n",
       "                               ask_amount  \n",
       "local_ts                                   \n",
       "2023-03-22 00:00:00.002269696      17.243  \n",
       "2023-03-22 00:00:00.023076352      17.243  \n",
       "2023-03-22 00:00:00.025819392      17.223  \n",
       "2023-03-22 00:00:00.041581312      17.223  \n",
       "2023-03-22 00:00:00.045155072      16.635  "
      ]
     },
     "execution_count": 24,
     "metadata": {},
     "output_type": "execute_result"
    }
   ],
   "source": [
    "df.head()"
   ]
  },
  {
   "cell_type": "markdown",
   "id": "ef218416",
   "metadata": {},
   "source": [
    "# Features"
   ]
  },
  {
   "cell_type": "markdown",
   "id": "eed37671",
   "metadata": {},
   "source": [
    "## Orderbook Imbalances"
   ]
  },
  {
   "cell_type": "markdown",
   "id": "661289a4",
   "metadata": {},
   "source": [
    "В статье для расчёта данной фичи используется \"the median liquidity within the top **five basis points** of the top of the book\". Для начала посмотрим, насколько у нас глубокий стакан в bp."
   ]
  },
  {
   "cell_type": "code",
   "execution_count": 28,
   "id": "3ad4b682",
   "metadata": {},
   "outputs": [],
   "source": [
    "df_book['bid_diff'] = (df_book['best_bid'] / df_book['worst_bid'] - 1) * 10000\n",
    "df_book['ask_diff'] = (df_book['worst_ask'] / df_book['best_ask'] - 1) * 10000"
   ]
  },
  {
   "cell_type": "code",
   "execution_count": 30,
   "id": "69fd2788",
   "metadata": {},
   "outputs": [
    {
     "data": {
      "text/plain": [
       "(count    6.403490e+06\n",
       " mean     1.204156e+00\n",
       " std      3.698358e-01\n",
       " min      8.361728e-01\n",
       " 25%      9.941840e-01\n",
       " 50%      1.099453e+00\n",
       " 75%      1.282563e+00\n",
       " max      4.290430e+01\n",
       " Name: bid_diff, dtype: float64,\n",
       " count    6.403490e+06\n",
       " mean     1.211033e+00\n",
       " std      3.749822e-01\n",
       " min      8.311400e-01\n",
       " 25%      9.929078e-01\n",
       " 50%      1.099611e+00\n",
       " 75%      1.306922e+00\n",
       " max      4.422557e+01\n",
       " Name: ask_diff, dtype: float64)"
      ]
     },
     "execution_count": 30,
     "metadata": {},
     "output_type": "execute_result"
    }
   ],
   "source": [
    "df_book['bid_diff'].describe(), df_book['ask_diff'].describe()"
   ]
  },
  {
   "cell_type": "markdown",
   "id": "46c6b46a",
   "metadata": {},
   "source": [
    "Как мы видим, в среднем глубина у нас 1.2 bp как для бид стороны, так и для аска. Поэтому если брать 5bp, то мы, по сути, будем брать медиану по всему стакану (для бида и аска в отдельности). И тут непонятно, насколько нас такая ситуация устраивает. Если в какой-то момент стакан асимметричен (2 bp по аску и 0.5 bp по биду), то рассчитывать так медианы, кажется, некорректно. \n",
    "\n",
    "Какое именно кол-во bp брать - отдельный вопрос, на который сходу ответить тяжело. С одной стороны, чем больше bp брать, тем менее информативным становится признак (много ситуаций с нулевыми значениями как по биду, так и по аску). С другой стороны, если мы берем низкие значения bp, то мы как бы смотрим, насколько вероятно пробитие стакана на меньшее кол-во bp, а у нас целевая переменная, насколько я помню, завязана на 1 bp, в связи с чем небольшие пробития стакана меньше, чем на 1bp нас не интересуют.\n",
    "\n",
    "По итогу, я решил изменить предложенные в статье 5 bp на 1bp."
   ]
  },
  {
   "cell_type": "code",
   "execution_count": 31,
   "id": "9362bfce",
   "metadata": {},
   "outputs": [],
   "source": [
    "df_book['bid_bp'] = df_book['best_bid'] * (1 - 0.0001)\n",
    "df_book['ask_bp'] = df_book['best_ask'] * (1 + 0.0001)"
   ]
  },
  {
   "cell_type": "code",
   "execution_count": 34,
   "id": "408926ec",
   "metadata": {},
   "outputs": [],
   "source": [
    "df_book.drop(columns=['best_bid', 'best_ask', 'worst_bid', 'worst_ask', 'bid_diff', 'ask_diff'], inplace=True)"
   ]
  },
  {
   "cell_type": "code",
   "execution_count": 35,
   "id": "ba250d37",
   "metadata": {
    "scrolled": true
   },
   "outputs": [
    {
     "data": {
      "text/html": [
       "<div>\n",
       "<style scoped>\n",
       "    .dataframe tbody tr th:only-of-type {\n",
       "        vertical-align: middle;\n",
       "    }\n",
       "\n",
       "    .dataframe tbody tr th {\n",
       "        vertical-align: top;\n",
       "    }\n",
       "\n",
       "    .dataframe thead th {\n",
       "        text-align: right;\n",
       "    }\n",
       "</style>\n",
       "<table border=\"1\" class=\"dataframe\">\n",
       "  <thead>\n",
       "    <tr style=\"text-align: right;\">\n",
       "      <th></th>\n",
       "      <th>bid_prices</th>\n",
       "      <th>bid_amounts</th>\n",
       "      <th>ask_prices</th>\n",
       "      <th>ask_amounts</th>\n",
       "      <th>bid_bp</th>\n",
       "      <th>ask_bp</th>\n",
       "    </tr>\n",
       "    <tr>\n",
       "      <th>local_ts</th>\n",
       "      <th></th>\n",
       "      <th></th>\n",
       "      <th></th>\n",
       "      <th></th>\n",
       "      <th></th>\n",
       "      <th></th>\n",
       "    </tr>\n",
       "  </thead>\n",
       "  <tbody>\n",
       "    <tr>\n",
       "      <th>2023-03-22 00:00:00.485131264</th>\n",
       "      <td>[28091.1, 28091.0, 28090.8, 28090.7, 28090.6, ...</td>\n",
       "      <td>[0.001, 0.003, 0.002, 0.002, 0.002, 0.02, 0.00...</td>\n",
       "      <td>[28091.2, 28091.3, 28091.4, 28091.5, 28091.6, ...</td>\n",
       "      <td>[16.183, 7.874, 1.451, 5.937, 0.298, 0.018, 0....</td>\n",
       "      <td>28088.29089</td>\n",
       "      <td>28094.00912</td>\n",
       "    </tr>\n",
       "    <tr>\n",
       "      <th>2023-03-22 00:00:02.065465600</th>\n",
       "      <td>[28090.8, 28090.7, 28090.6, 28090.5, 28090.4, ...</td>\n",
       "      <td>[0.002, 0.002, 0.002, 0.02, 0.001, 0.001, 0.00...</td>\n",
       "      <td>[28090.9, 28091.0, 28091.2, 28091.3, 28091.4, ...</td>\n",
       "      <td>[6.995, 0.735, 15.633, 7.874, 1.451, 5.937, 0....</td>\n",
       "      <td>28087.99092</td>\n",
       "      <td>28093.70909</td>\n",
       "    </tr>\n",
       "    <tr>\n",
       "      <th>2023-03-22 00:00:02.691394048</th>\n",
       "      <td>[28090.8, 28090.7, 28090.6, 28090.5, 28090.4, ...</td>\n",
       "      <td>[0.002, 0.002, 0.002, 0.02, 0.001, 0.001, 0.00...</td>\n",
       "      <td>[28090.9, 28091.0, 28091.2, 28091.3, 28091.4, ...</td>\n",
       "      <td>[7.005, 0.735, 15.633, 7.874, 1.451, 5.937, 0....</td>\n",
       "      <td>28087.99092</td>\n",
       "      <td>28093.70909</td>\n",
       "    </tr>\n",
       "  </tbody>\n",
       "</table>\n",
       "</div>"
      ],
      "text/plain": [
       "                                                                      bid_prices  \\\n",
       "local_ts                                                                           \n",
       "2023-03-22 00:00:00.485131264  [28091.1, 28091.0, 28090.8, 28090.7, 28090.6, ...   \n",
       "2023-03-22 00:00:02.065465600  [28090.8, 28090.7, 28090.6, 28090.5, 28090.4, ...   \n",
       "2023-03-22 00:00:02.691394048  [28090.8, 28090.7, 28090.6, 28090.5, 28090.4, ...   \n",
       "\n",
       "                                                                     bid_amounts  \\\n",
       "local_ts                                                                           \n",
       "2023-03-22 00:00:00.485131264  [0.001, 0.003, 0.002, 0.002, 0.002, 0.02, 0.00...   \n",
       "2023-03-22 00:00:02.065465600  [0.002, 0.002, 0.002, 0.02, 0.001, 0.001, 0.00...   \n",
       "2023-03-22 00:00:02.691394048  [0.002, 0.002, 0.002, 0.02, 0.001, 0.001, 0.00...   \n",
       "\n",
       "                                                                      ask_prices  \\\n",
       "local_ts                                                                           \n",
       "2023-03-22 00:00:00.485131264  [28091.2, 28091.3, 28091.4, 28091.5, 28091.6, ...   \n",
       "2023-03-22 00:00:02.065465600  [28090.9, 28091.0, 28091.2, 28091.3, 28091.4, ...   \n",
       "2023-03-22 00:00:02.691394048  [28090.9, 28091.0, 28091.2, 28091.3, 28091.4, ...   \n",
       "\n",
       "                                                                     ask_amounts  \\\n",
       "local_ts                                                                           \n",
       "2023-03-22 00:00:00.485131264  [16.183, 7.874, 1.451, 5.937, 0.298, 0.018, 0....   \n",
       "2023-03-22 00:00:02.065465600  [6.995, 0.735, 15.633, 7.874, 1.451, 5.937, 0....   \n",
       "2023-03-22 00:00:02.691394048  [7.005, 0.735, 15.633, 7.874, 1.451, 5.937, 0....   \n",
       "\n",
       "                                    bid_bp       ask_bp  \n",
       "local_ts                                                 \n",
       "2023-03-22 00:00:00.485131264  28088.29089  28094.00912  \n",
       "2023-03-22 00:00:02.065465600  28087.99092  28093.70909  \n",
       "2023-03-22 00:00:02.691394048  28087.99092  28093.70909  "
      ]
     },
     "execution_count": 35,
     "metadata": {},
     "output_type": "execute_result"
    }
   ],
   "source": [
    "df_book.head(3)"
   ]
  },
  {
   "cell_type": "code",
   "execution_count": 36,
   "id": "dbd65af6",
   "metadata": {},
   "outputs": [],
   "source": [
    "def get_imb(x):\n",
    "    bid_prices = np.array(x['bid_prices'])\n",
    "    bid_amounts = np.array(x['bid_amounts'])\n",
    "    bid_bp = x['bid_bp']\n",
    "    ask_prices = np.array(x['ask_prices'])\n",
    "    ask_amounts = np.array(x['ask_amounts'])\n",
    "    ask_bp = x['ask_bp']\n",
    "    \n",
    "    n_bid = np.nanmedian(np.where(bid_prices >= bid_bp, bid_amounts, np.nan))\n",
    "    n_ask = np.nanmedian(np.where(ask_prices <= ask_bp, ask_amounts, np.nan))\n",
    "    n = (n_bid + n_ask) / 2\n",
    "    \n",
    "    bid_cumsum = np.cumsum(bid_amounts)\n",
    "    bid_idxs = np.where(bid_cumsum >= n)[0]\n",
    "    p_bid = bid_prices[bid_idxs[0]] if bid_idxs.size else bid_prices[-1]\n",
    "    \n",
    "    ask_cumsum = np.cumsum(ask_amounts)\n",
    "    ask_idxs = np.where(ask_cumsum >= n)[0]\n",
    "    p_ask = ask_prices[ask_idxs[0]] if ask_idxs.size else ask_prices[-1]\n",
    "    \n",
    "    x['imb_bid'] = (bid_prices[0] / p_bid - 1) * 10000\n",
    "    x['imb_ask'] = (p_ask / ask_prices[0] - 1) * 10000\n",
    "    \n",
    "    return x"
   ]
  },
  {
   "cell_type": "code",
   "execution_count": 37,
   "id": "d6ba642d",
   "metadata": {},
   "outputs": [
    {
     "name": "stderr",
     "output_type": "stream",
     "text": [
      "100%|█████████████████████████████| 6403490/6403490 [1:26:57<00:00, 1227.25it/s]"
     ]
    },
    {
     "name": "stdout",
     "output_type": "stream",
     "text": [
      "CPU times: user 59min 21s, sys: 9min 49s, total: 1h 9min 11s\n",
      "Wall time: 1h 26min 58s\n"
     ]
    },
    {
     "name": "stderr",
     "output_type": "stream",
     "text": [
      "\n"
     ]
    }
   ],
   "source": [
    "%%time\n",
    "\n",
    "df_book = df_book.progress_apply(get_imb, axis=1)"
   ]
  },
  {
   "cell_type": "code",
   "execution_count": 41,
   "id": "18cf2e3c",
   "metadata": {},
   "outputs": [],
   "source": [
    "df_book.drop(columns=['bid_prices', 'bid_amounts', 'ask_prices', 'ask_amounts', 'bid_bp', 'ask_bp'], inplace=True)"
   ]
  },
  {
   "cell_type": "markdown",
   "id": "7125bfa7",
   "metadata": {},
   "source": [
    "Смержим полученные фичи с df датафреймом"
   ]
  },
  {
   "cell_type": "code",
   "execution_count": 57,
   "id": "9b981c8d",
   "metadata": {},
   "outputs": [],
   "source": [
    "df = pd.merge_asof(df, df_book, on='local_ts', direction='backward')\n",
    "df.set_index('local_ts', inplace=True)\n",
    "df.sort_index(inplace=True)"
   ]
  },
  {
   "cell_type": "markdown",
   "id": "5eccf771",
   "metadata": {},
   "source": [
    "Так как первый снепшот ордербука у нас за \"00:00:00.485131264\", то все записи до этого времени имеют NaN. В целом, эти записи можно удалить или же заполнить эти пропуски первым снепшотом ордербука, хотя это и не совсем корректно. \n",
    "В данном случае заполню пропуски."
   ]
  },
  {
   "cell_type": "code",
   "execution_count": 52,
   "id": "79bee341",
   "metadata": {},
   "outputs": [],
   "source": [
    "# df.dropna(axis=0, inplace=True)\n",
    "df.interpolate(method='backfill', inplace=True)"
   ]
  },
  {
   "cell_type": "code",
   "execution_count": 59,
   "id": "5fc65f5b",
   "metadata": {},
   "outputs": [],
   "source": [
    "df.to_csv('data/df.csv')"
   ]
  },
  {
   "cell_type": "markdown",
   "id": "301312e4",
   "metadata": {},
   "source": [
    "## Trade Imbalances"
   ]
  },
  {
   "cell_type": "code",
   "execution_count": 229,
   "id": "e2dc9f14",
   "metadata": {},
   "outputs": [],
   "source": [
    "df = pd.read_csv('data/df.csv')\n",
    "df_trades = pd.read_csv(trades_path, usecols = [0, 4, 5, 6])"
   ]
  },
  {
   "cell_type": "code",
   "execution_count": 230,
   "id": "f9e118e8",
   "metadata": {},
   "outputs": [],
   "source": [
    "df['local_ts'] = pd.to_datetime(df['local_ts'])\n",
    "df_trades['local_ts'] = pd.to_datetime(df_trades['local_ts'])\n",
    "\n",
    "\n",
    "df_trades = (\n",
    "    df_trades.drop_duplicates(subset='local_ts', keep='last')\n",
    "    .set_index('local_ts').sort_index()\n",
    ")"
   ]
  },
  {
   "cell_type": "code",
   "execution_count": 231,
   "id": "c0363a7d",
   "metadata": {},
   "outputs": [],
   "source": [
    "# def get_tfi(x, df_trades, time_horizon=100):\n",
    "#     trades = df_trades.loc[(x['local_ts'] - datetime.timedelta(milliseconds=time_horizon)):x['local_ts']]\n",
    "#     trades_amount = trades.groupby('side')['amount'].sum()\n",
    "#     B = trades_amount['B'] if 'B' in trades_amount.index else 0\n",
    "#     S = trades_amount['S'] if 'S' in trades_amount.index else 0\n",
    "#     return B - S\n",
    "\n",
    "# for time_horizon in [100, 250, 500, 1000, 2000]: \n",
    "#     df[f'tfi_{time_horizon}'] = df.progress_apply(\n",
    "#         lambda x: get_tfi(x, df_trades, time_horizon=time_horizon),\n",
    "#         axis=1\n",
    "#     )"
   ]
  },
  {
   "cell_type": "markdown",
   "id": "559e8b90",
   "metadata": {},
   "source": [
    "Nan's заполняю 0, хотя можно и удалять"
   ]
  },
  {
   "cell_type": "code",
   "execution_count": 235,
   "id": "40b5870a",
   "metadata": {},
   "outputs": [
    {
     "name": "stdout",
     "output_type": "stream",
     "text": [
      "go to the loop\n",
      "100ms is done\n",
      "250ms is done\n",
      "500ms is done\n",
      "1000ms is done\n",
      "2000ms is done\n",
      "CPU times: user 8.83 s, sys: 5 s, total: 13.8 s\n",
      "Wall time: 16.4 s\n"
     ]
    }
   ],
   "source": [
    "%%time\n",
    "\n",
    "df_trades['side'].replace(['S', 'B'], [-1, 1], inplace=True)\n",
    "df_trades['amount'] = df_trades['amount'] *  df_trades['side']\n",
    "df_trades.drop(columns=['price', 'side'], inplace=True)\n",
    "\n",
    "print('go to the loop')\n",
    "for time_horizon in [100, 250, 500, 1000, 2000]:\n",
    "    df_trades[f'tfi_{time_horizon}'] = df_trades['amount'].rolling(f'{time_horizon}ms', min_periods=1).sum().fillna(0)\n",
    "    print(f'{time_horizon}ms is done')\n",
    "    \n",
    "df_trades.drop(columns=['amount'], inplace=True)\n",
    "df = pd.merge_asof(df, df_trades, on='local_ts', direction='backward')"
   ]
  },
  {
   "cell_type": "markdown",
   "id": "9f7534de",
   "metadata": {},
   "source": [
    "## Past Returns"
   ]
  },
  {
   "cell_type": "code",
   "execution_count": 311,
   "id": "9fd0cb58",
   "metadata": {},
   "outputs": [],
   "source": [
    "df_trades = pd.read_csv(trades_path, usecols = [0, 4, 5])\n",
    "df['local_ts'] = pd.to_datetime(df['local_ts'])\n",
    "df_trades['local_ts'] = pd.to_datetime(df_trades['local_ts'])\n",
    "df_trades = (\n",
    "    df_trades.drop_duplicates(subset='local_ts', keep='last')\n",
    "    .set_index('local_ts').sort_index()\n",
    ")"
   ]
  },
  {
   "cell_type": "code",
   "execution_count": 262,
   "id": "25250229",
   "metadata": {},
   "outputs": [],
   "source": [
    "# def get_pret(x, df_trades, time_horizon=100):\n",
    "#     trades_now = df_trades.loc[(x['local_ts'] - datetime.timedelta(milliseconds=50)):x['local_ts']]\n",
    "#     p_now = (trades_now['price'] * trades_now['amount']).sum() / trades_now['amount'].sum()\n",
    "    \n",
    "#     time_lagged = x['local_ts'] - datetime.timedelta(milliseconds=time_horizon)\n",
    "#     trades_lagged = df_trades.loc[(time_lagged - datetime.timedelta(milliseconds=50)):time_lagged]\n",
    "#     p_lagged = (trades_lagged['price'] * trades_lagged['amount']).sum() / trades_lagged['amount'].sum()\n",
    "    \n",
    "#     return (p_now / p_lagged - 1) * 10000\n",
    "\n",
    "# for time_horizon in [100, 250, 500, 1000, 2000]: \n",
    "#     df[f'pret_{time_horizon}'] = df.progress_apply(\n",
    "#         lambda x: get_pret(x, df_trades, time_horizon=time_horizon),\n",
    "#         axis=1\n",
    "#     )"
   ]
  },
  {
   "cell_type": "markdown",
   "id": "2c0798a9",
   "metadata": {},
   "source": [
    "Nan's заполняю 0, хотя можно и удалять"
   ]
  },
  {
   "cell_type": "code",
   "execution_count": 317,
   "id": "92fd9f24",
   "metadata": {},
   "outputs": [
    {
     "name": "stdout",
     "output_type": "stream",
     "text": [
      "go to the loop\n",
      "100ms is done\n",
      "250ms is done\n",
      "500ms is done\n",
      "1000ms is done\n",
      "2000ms is done\n",
      "CPU times: user 21.7 s, sys: 13.2 s, total: 35 s\n",
      "Wall time: 33.5 s\n"
     ]
    }
   ],
   "source": [
    "%%time\n",
    "\n",
    "df_trades['p_a'] = df_trades['price'] * df_trades['amount']\n",
    "df_trades.drop(columns=['price'], inplace=True)\n",
    "\n",
    "df_trades[['cum_amount', 'cum_p_a']] = df_trades[['amount', 'p_a']].rolling('50ms', min_periods=1).sum()\n",
    "df_trades.drop(columns=['amount', 'p_a'], inplace=True)\n",
    "\n",
    "df_trades['p'] = df_trades['cum_p_a'] / df_trades['cum_amount']\n",
    "df_trades.drop(columns=['cum_amount', 'cum_p_a'], inplace=True)\n",
    "\n",
    "print('go to the loop')\n",
    "for time_horizon in [100, 250, 500, 1000, 2000]:\n",
    "    df_trades[f'p_lag_{time_horizon}'] = df_trades.set_index(\n",
    "        df_trades.index + pd.Timedelta(f'{time_horizon}ms')\n",
    "    ).reindex(df_trades.index, method='ffill')['p']\n",
    "    \n",
    "    df_trades[f'pret_{time_horizon}'] = (\n",
    "        (df_trades['p'] / df_trades[f'p_lag_{time_horizon}'] - 1) * 10000\n",
    "    ).fillna(0)\n",
    "    \n",
    "    df_trades.drop(columns=[f'p_lag_{time_horizon}'], inplace=True)\n",
    "    print(f'{time_horizon}ms is done')\n",
    "    \n",
    "df_trades.drop(columns=['p'], inplace=True)\n",
    "df = pd.merge_asof(df, df_trades, on='local_ts', direction='backward')"
   ]
  },
  {
   "cell_type": "code",
   "execution_count": 355,
   "id": "c375059f",
   "metadata": {},
   "outputs": [],
   "source": [
    "df.to_csv('data/df.csv')"
   ]
  },
  {
   "cell_type": "code",
   "execution_count": null,
   "id": "df3b10ee",
   "metadata": {},
   "outputs": [],
   "source": []
  }
 ],
 "metadata": {
  "kernelspec": {
   "display_name": "Python 3 (ipykernel)",
   "language": "python",
   "name": "python3"
  },
  "language_info": {
   "codemirror_mode": {
    "name": "ipython",
    "version": 3
   },
   "file_extension": ".py",
   "mimetype": "text/x-python",
   "name": "python",
   "nbconvert_exporter": "python",
   "pygments_lexer": "ipython3",
   "version": "3.8.13"
  }
 },
 "nbformat": 4,
 "nbformat_minor": 5
}
