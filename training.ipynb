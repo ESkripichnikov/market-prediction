{
 "cells": [
  {
   "cell_type": "code",
   "execution_count": 1,
   "id": "50bece50",
   "metadata": {},
   "outputs": [],
   "source": [
    "import datetime\n",
    "import joblib\n",
    "import itertools\n",
    "import random\n",
    "import numpy as np\n",
    "import pandas as pd\n",
    "import seaborn as sns\n",
    "from tqdm.notebook import tqdm\n",
    "\n",
    "from sklearn.linear_model import LogisticRegression\n",
    "from sklearn.model_selection import TimeSeriesSplit\n",
    "from sklearn.preprocessing import StandardScaler\n",
    "\n",
    "from utils.metric_clf_hft import metric\n",
    "\n",
    "import warnings\n",
    "warnings.filterwarnings('ignore')"
   ]
  },
  {
   "cell_type": "code",
   "execution_count": 2,
   "id": "a11f54f7",
   "metadata": {},
   "outputs": [],
   "source": [
    "def seed_everything(seed):\n",
    "    random.seed(seed)\n",
    "    np.random.seed(seed)\n",
    "\n",
    "SEED = 13\n",
    "seed_everything(SEED)"
   ]
  },
  {
   "cell_type": "markdown",
   "id": "67060143",
   "metadata": {},
   "source": [
    "# Data Preprocessing"
   ]
  },
  {
   "cell_type": "code",
   "execution_count": 3,
   "id": "89bc4d4b",
   "metadata": {},
   "outputs": [],
   "source": [
    "cols = ['local_ts', 'target',\n",
    "        'imb_bid_perp', 'imb_ask_perp', 'imb_bid_spot', 'imb_ask_spot',\n",
    "        'tfi_100_perp', 'tfi_250_perp', 'tfi_500_perp', 'tfi_1000_perp', 'tfi_2000_perp',\n",
    "        'tfi_100_spot', 'tfi_250_spot', 'tfi_500_spot', 'tfi_1000_spot', 'tfi_2000_spot',\n",
    "        'pret_100_perp', 'pret_250_perp', 'pret_500_perp', 'pret_1000_perp', 'pret_2000_perp',\n",
    "        'pret_100_spot', 'pret_250_spot', 'pret_500_spot', 'pret_1000_spot', 'pret_2000_spot',\n",
    "        'mean_div_5s', 'mean_div_9s', 'mean_div_19s', 'mean_div_38s',\n",
    "        'mean_div_75s', 'mean_div_150s', 'mean_div_300s', 'mean_div_600s']"
   ]
  },
  {
   "cell_type": "code",
   "execution_count": 4,
   "id": "335d5429",
   "metadata": {},
   "outputs": [],
   "source": [
    "df = pd.read_csv('data/df.csv', usecols=cols) # nrows=1_000_000"
   ]
  },
  {
   "cell_type": "code",
   "execution_count": 5,
   "id": "6b3404f1",
   "metadata": {},
   "outputs": [],
   "source": [
    "df['local_ts'] = pd.to_datetime(df['local_ts'])\n",
    "df = df.set_index('local_ts').sort_index()"
   ]
  },
  {
   "cell_type": "markdown",
   "id": "73773978",
   "metadata": {},
   "source": [
    "Deleting nans"
   ]
  },
  {
   "cell_type": "code",
   "execution_count": 6,
   "id": "2e9b2d2d",
   "metadata": {},
   "outputs": [],
   "source": [
    "df.dropna(axis=0, inplace=True)"
   ]
  },
  {
   "cell_type": "code",
   "execution_count": 7,
   "id": "6b27a9ea",
   "metadata": {},
   "outputs": [],
   "source": [
    "X = df.drop(columns='target').values\n",
    "y = df['target'].values\n",
    "del df"
   ]
  },
  {
   "cell_type": "markdown",
   "id": "0d079e27",
   "metadata": {},
   "source": [
    "# Time Series Cross Validation"
   ]
  },
  {
   "cell_type": "code",
   "execution_count": 8,
   "id": "448a1352",
   "metadata": {},
   "outputs": [],
   "source": [
    "def performTimeSeriesCV(X, y, model, metric, preprocessor=None, n_splits=5, kwargs={}):\n",
    "    tscv = TimeSeriesSplit(n_splits=n_splits)\n",
    "    \n",
    "    metrics = []\n",
    "    for train_index, val_index in tqdm(tscv.split(X), total=tscv.get_n_splits(),\n",
    "                                       desc='TimeSeriesCV', leave=False):\n",
    "        X_train = X[train_index]\n",
    "        X_val = X[val_index]\n",
    "        y_train = y[train_index]\n",
    "        y_val = y[val_index]\n",
    "        \n",
    "        if preprocessor:\n",
    "            X_train = preprocessor.fit_transform(X_train)\n",
    "            X_val = preprocessor.transform(X_val)\n",
    "            model.fit(X_train, y_train, **kwargs)\n",
    "        else:\n",
    "            model.fit(X_train, y_train, **kwargs)\n",
    "        \n",
    "        metrics.append(metric(y_val, model.predict(X_val), confusion=True))\n",
    "   \n",
    "    return metrics"
   ]
  },
  {
   "cell_type": "markdown",
   "id": "986d23ce",
   "metadata": {},
   "source": [
    "# Training models"
   ]
  },
  {
   "cell_type": "markdown",
   "id": "350a0373",
   "metadata": {},
   "source": [
    "## Baseline: Logistic Regression"
   ]
  },
  {
   "cell_type": "code",
   "execution_count": 9,
   "id": "fa3d6b24",
   "metadata": {},
   "outputs": [
    {
     "data": {
      "application/vnd.jupyter.widget-view+json": {
       "model_id": "",
       "version_major": 2,
       "version_minor": 0
      },
      "text/plain": [
       "TimeSeriesCV:   0%|          | 0/4 [00:00<?, ?it/s]"
      ]
     },
     "metadata": {},
     "output_type": "display_data"
    },
    {
     "name": "stdout",
     "output_type": "stream",
     "text": [
      "Mean metric of baseline on cross validation: -390.2\n",
      "\n",
      "confusion matrix of last fold:\n",
      "[[ 262883 1789263  177482]\n",
      " [ 174429 2683674  166991]\n",
      " [ 198216 1805323  253069]]\n"
     ]
    }
   ],
   "source": [
    "preprocessor = StandardScaler()\n",
    "logistic_regression = LogisticRegression(random_state=SEED)\n",
    "\n",
    "metric_baseline_cv = performTimeSeriesCV(X, y, logistic_regression, metric, preprocessor, n_splits=4)\n",
    "\n",
    "print(f'Mean metric of baseline on cross validation: {round(np.mean([x[0] for x in metric_baseline_cv]), 2)}')\n",
    "print(f'\\nconfusion matrix of last fold:\\n{metric_baseline_cv[-1][1]}')"
   ]
  },
  {
   "cell_type": "markdown",
   "id": "f8cf2b5e",
   "metadata": {},
   "source": [
    "### Hyperparameters tuning\n",
    "\n",
    "Since we have a custom metric that pays more attention to classes 1 and -1, we want to take this into account during training, which can be achieved using **class_weight**. In addition, we will also search for otimal **Regularization Strength** (C)."
   ]
  },
  {
   "cell_type": "markdown",
   "id": "1073e2ba",
   "metadata": {},
   "source": [
    "In order to speed up the selection of optimal hyperparameters, we will select them on a third of all data"
   ]
  },
  {
   "cell_type": "code",
   "execution_count": 10,
   "id": "f3ca6714",
   "metadata": {},
   "outputs": [],
   "source": [
    "sample_size = X.shape[0] // 3\n",
    "X_sample = X[:sample_size]\n",
    "y_sample = y[:sample_size]"
   ]
  },
  {
   "cell_type": "code",
   "execution_count": 11,
   "id": "462bd132",
   "metadata": {},
   "outputs": [
    {
     "data": {
      "application/vnd.jupyter.widget-view+json": {
       "model_id": "880d64257a6643a0bf9a35c421f2d760",
       "version_major": 2,
       "version_minor": 0
      },
      "text/plain": [
       "  0%|          | 0/16 [00:00<?, ?it/s]"
      ]
     },
     "metadata": {},
     "output_type": "display_data"
    },
    {
     "data": {
      "application/vnd.jupyter.widget-view+json": {
       "model_id": "",
       "version_major": 2,
       "version_minor": 0
      },
      "text/plain": [
       "TimeSeriesCV:   0%|          | 0/3 [00:00<?, ?it/s]"
      ]
     },
     "metadata": {},
     "output_type": "display_data"
    },
    {
     "data": {
      "application/vnd.jupyter.widget-view+json": {
       "model_id": "",
       "version_major": 2,
       "version_minor": 0
      },
      "text/plain": [
       "TimeSeriesCV:   0%|          | 0/3 [00:00<?, ?it/s]"
      ]
     },
     "metadata": {},
     "output_type": "display_data"
    },
    {
     "data": {
      "application/vnd.jupyter.widget-view+json": {
       "model_id": "",
       "version_major": 2,
       "version_minor": 0
      },
      "text/plain": [
       "TimeSeriesCV:   0%|          | 0/3 [00:00<?, ?it/s]"
      ]
     },
     "metadata": {},
     "output_type": "display_data"
    },
    {
     "data": {
      "application/vnd.jupyter.widget-view+json": {
       "model_id": "",
       "version_major": 2,
       "version_minor": 0
      },
      "text/plain": [
       "TimeSeriesCV:   0%|          | 0/3 [00:00<?, ?it/s]"
      ]
     },
     "metadata": {},
     "output_type": "display_data"
    },
    {
     "data": {
      "application/vnd.jupyter.widget-view+json": {
       "model_id": "",
       "version_major": 2,
       "version_minor": 0
      },
      "text/plain": [
       "TimeSeriesCV:   0%|          | 0/3 [00:00<?, ?it/s]"
      ]
     },
     "metadata": {},
     "output_type": "display_data"
    },
    {
     "data": {
      "application/vnd.jupyter.widget-view+json": {
       "model_id": "",
       "version_major": 2,
       "version_minor": 0
      },
      "text/plain": [
       "TimeSeriesCV:   0%|          | 0/3 [00:00<?, ?it/s]"
      ]
     },
     "metadata": {},
     "output_type": "display_data"
    },
    {
     "data": {
      "application/vnd.jupyter.widget-view+json": {
       "model_id": "",
       "version_major": 2,
       "version_minor": 0
      },
      "text/plain": [
       "TimeSeriesCV:   0%|          | 0/3 [00:00<?, ?it/s]"
      ]
     },
     "metadata": {},
     "output_type": "display_data"
    },
    {
     "data": {
      "application/vnd.jupyter.widget-view+json": {
       "model_id": "",
       "version_major": 2,
       "version_minor": 0
      },
      "text/plain": [
       "TimeSeriesCV:   0%|          | 0/3 [00:00<?, ?it/s]"
      ]
     },
     "metadata": {},
     "output_type": "display_data"
    },
    {
     "data": {
      "application/vnd.jupyter.widget-view+json": {
       "model_id": "",
       "version_major": 2,
       "version_minor": 0
      },
      "text/plain": [
       "TimeSeriesCV:   0%|          | 0/3 [00:00<?, ?it/s]"
      ]
     },
     "metadata": {},
     "output_type": "display_data"
    },
    {
     "data": {
      "application/vnd.jupyter.widget-view+json": {
       "model_id": "",
       "version_major": 2,
       "version_minor": 0
      },
      "text/plain": [
       "TimeSeriesCV:   0%|          | 0/3 [00:00<?, ?it/s]"
      ]
     },
     "metadata": {},
     "output_type": "display_data"
    },
    {
     "data": {
      "application/vnd.jupyter.widget-view+json": {
       "model_id": "",
       "version_major": 2,
       "version_minor": 0
      },
      "text/plain": [
       "TimeSeriesCV:   0%|          | 0/3 [00:00<?, ?it/s]"
      ]
     },
     "metadata": {},
     "output_type": "display_data"
    },
    {
     "data": {
      "application/vnd.jupyter.widget-view+json": {
       "model_id": "",
       "version_major": 2,
       "version_minor": 0
      },
      "text/plain": [
       "TimeSeriesCV:   0%|          | 0/3 [00:00<?, ?it/s]"
      ]
     },
     "metadata": {},
     "output_type": "display_data"
    },
    {
     "data": {
      "application/vnd.jupyter.widget-view+json": {
       "model_id": "",
       "version_major": 2,
       "version_minor": 0
      },
      "text/plain": [
       "TimeSeriesCV:   0%|          | 0/3 [00:00<?, ?it/s]"
      ]
     },
     "metadata": {},
     "output_type": "display_data"
    },
    {
     "data": {
      "application/vnd.jupyter.widget-view+json": {
       "model_id": "",
       "version_major": 2,
       "version_minor": 0
      },
      "text/plain": [
       "TimeSeriesCV:   0%|          | 0/3 [00:00<?, ?it/s]"
      ]
     },
     "metadata": {},
     "output_type": "display_data"
    },
    {
     "data": {
      "application/vnd.jupyter.widget-view+json": {
       "model_id": "",
       "version_major": 2,
       "version_minor": 0
      },
      "text/plain": [
       "TimeSeriesCV:   0%|          | 0/3 [00:00<?, ?it/s]"
      ]
     },
     "metadata": {},
     "output_type": "display_data"
    },
    {
     "data": {
      "application/vnd.jupyter.widget-view+json": {
       "model_id": "",
       "version_major": 2,
       "version_minor": 0
      },
      "text/plain": [
       "TimeSeriesCV:   0%|          | 0/3 [00:00<?, ?it/s]"
      ]
     },
     "metadata": {},
     "output_type": "display_data"
    }
   ],
   "source": [
    "class_weights = [None, {1: 10, 0: 1, -1: 10}, {1: 100, 0: 1, -1: 100}, {1: 1000, 0: 1, -1: 1000}]\n",
    "C_list = [10, 1, 0.1, 0.01]\n",
    "gridsearch = list(itertools.product(class_weights, C_list))\n",
    "\n",
    "gridsearch_results = []\n",
    "preprocessor = StandardScaler()\n",
    "for class_weight, C in tqdm(gridsearch):\n",
    "    logistic_regression = LogisticRegression(random_state=SEED, class_weight=class_weight, C=C)\n",
    "    metric_baseline_cv = performTimeSeriesCV(X_sample, y_sample,\n",
    "                                             logistic_regression, metric, preprocessor, n_splits=3)\n",
    "    gridsearch_results.append((np.mean([x[0] for x in metric_baseline_cv]), metric_baseline_cv[-1][1]))"
   ]
  },
  {
   "cell_type": "code",
   "execution_count": 12,
   "id": "2f9c6001",
   "metadata": {},
   "outputs": [
    {
     "name": "stdout",
     "output_type": "stream",
     "text": [
      "Optimal class weight: {1: 100, 0: 1, -1: 100}, Optimal regularization strength: 0.01\n"
     ]
    }
   ],
   "source": [
    "optim_index = np.argmax([x[0] for x in gridsearch_results])\n",
    "optim_class_weight, optim_C = gridsearch[optim_index]\n",
    "print(f'Optimal class weight: {optim_class_weight}, Optimal regularization strength: {optim_C}')"
   ]
  },
  {
   "cell_type": "markdown",
   "id": "3dcf8aae",
   "metadata": {},
   "source": [
    "Let's compare on the whole dataset"
   ]
  },
  {
   "cell_type": "code",
   "execution_count": 21,
   "id": "f5b8f63d",
   "metadata": {},
   "outputs": [
    {
     "name": "stdout",
     "output_type": "stream",
     "text": [
      "Mean metric of final baseline on cross validation: 359.78\n",
      "\n",
      "confusion matrix of last fold:\n",
      "[[1192181       0 1037447]\n",
      " [1393439       0 1631655]\n",
      " [ 965093       0 1291515]]\n"
     ]
    }
   ],
   "source": [
    "preprocessor = StandardScaler()\n",
    "logistic_regression = LogisticRegression(random_state=SEED, class_weight=optim_class_weight, C=optim_C)\n",
    "\n",
    "metric_baseline_cv_final = performTimeSeriesCV(X, y, logistic_regression, metric, preprocessor, n_splits=4)\n",
    "\n",
    "print('Mean metric of final baseline on cross validation: ' \n",
    "      f'{round(np.mean([x[0] for x in metric_baseline_cv_final]), 2)}')\n",
    "print(f'\\nconfusion matrix of last fold:\\n{metric_baseline_cv_final[-1][1]}')"
   ]
  },
  {
   "cell_type": "markdown",
   "id": "ea109b3a",
   "metadata": {},
   "source": [
    "With the help of hyperparameters tuning, we managed to improve the metrics from **-390.2** to **359.78**"
   ]
  },
  {
   "cell_type": "markdown",
   "id": "c6b47b93",
   "metadata": {},
   "source": [
    "### Training on the whole dataset and saving the final model"
   ]
  },
  {
   "cell_type": "code",
   "execution_count": 27,
   "id": "39088a57",
   "metadata": {},
   "outputs": [
    {
     "data": {
      "text/plain": [
       "['models/logistic.joblib']"
      ]
     },
     "execution_count": 27,
     "metadata": {},
     "output_type": "execute_result"
    }
   ],
   "source": [
    "preprocessor = StandardScaler()\n",
    "logistic_regression = LogisticRegression(random_state=SEED, class_weight=optim_class_weight, C=optim_C)\n",
    "\n",
    "X = preprocessor.fit_transform(X)\n",
    "logistic_regression.fit(X, y)\n",
    "\n",
    "joblib.dump(logistic_regression, 'models/logistic.joblib')"
   ]
  },
  {
   "cell_type": "markdown",
   "id": "8e7a54bb",
   "metadata": {},
   "source": [
    "## Random Forest"
   ]
  },
  {
   "cell_type": "code",
   "execution_count": null,
   "id": "f55798f0",
   "metadata": {},
   "outputs": [],
   "source": [
    "pass"
   ]
  },
  {
   "cell_type": "markdown",
   "id": "03bc45cd",
   "metadata": {},
   "source": [
    "## CatBoost"
   ]
  },
  {
   "cell_type": "code",
   "execution_count": null,
   "id": "e4c2d77b",
   "metadata": {},
   "outputs": [],
   "source": [
    "pass"
   ]
  },
  {
   "cell_type": "markdown",
   "id": "9755c23c",
   "metadata": {},
   "source": [
    "## Stacking"
   ]
  },
  {
   "cell_type": "code",
   "execution_count": null,
   "id": "d29e070c",
   "metadata": {},
   "outputs": [],
   "source": [
    "pass"
   ]
  }
 ],
 "metadata": {
  "kernelspec": {
   "display_name": "Python 3 (ipykernel)",
   "language": "python",
   "name": "python3"
  },
  "language_info": {
   "codemirror_mode": {
    "name": "ipython",
    "version": 3
   },
   "file_extension": ".py",
   "mimetype": "text/x-python",
   "name": "python",
   "nbconvert_exporter": "python",
   "pygments_lexer": "ipython3",
   "version": "3.8.13"
  }
 },
 "nbformat": 4,
 "nbformat_minor": 5
}
